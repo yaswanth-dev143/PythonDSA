{
 "cells": [
  {
   "cell_type": "code",
   "execution_count": 1,
   "id": "cb9ce7a8",
   "metadata": {},
   "outputs": [
    {
     "name": "stdout",
     "output_type": "stream",
     "text": [
      "hello world\n"
     ]
    }
   ],
   "source": [
    "print(\"hello world\")"
   ]
  },
  {
   "cell_type": "code",
   "execution_count": 2,
   "id": "b0e5fde5",
   "metadata": {},
   "outputs": [],
   "source": [
    "class Node:\n",
    "    def __init__(self,data):\n",
    "        self.data = data\n",
    "        self.next = none\n",
    "        "
   ]
  },
  {
   "cell_type": "code",
   "execution_count": 2,
   "id": "f3411de8",
   "metadata": {},
   "outputs": [
    {
     "name": "stdout",
     "output_type": "stream",
     "text": [
      "five neither thrive three "
     ]
    }
   ],
   "source": [
    "def thrive(n):\n",
    " if n % 15 == 0:\n",
    "   print(\"thrive\", end = \" \")\n",
    " elif n % 3 != 0 and n % 5 != 0:\n",
    "   print(\"neither\", end = \" \")\n",
    " elif n % 3 == 0:\n",
    "   print(\"three\", end = \" \")\n",
    " elif n % 5 == 0:\n",
    "   print(\"five\", end = \" \")\n",
    "thrive(35)\n",
    "thrive(56)\n",
    "thrive(15)\n",
    "thrive(39)"
   ]
  },
  {
   "cell_type": "code",
   "execution_count": 3,
   "id": "4d17b98c-bada-4e31-a8ca-37afa8596668",
   "metadata": {},
   "outputs": [
    {
     "name": "stdout",
     "output_type": "stream",
     "text": [
      "Even\n"
     ]
    }
   ],
   "source": [
    "def check(a):\n",
    "   print(\"Even\" if a % 2 == 0 else \"Odd\")\n",
    "   \n",
    "check(12)"
   ]
  },
  {
   "cell_type": "code",
   "execution_count": null,
   "id": "022b16f2-32af-4a0d-ada6-797ee9149b30",
   "metadata": {},
   "outputs": [],
   "source": []
  }
 ],
 "metadata": {
  "kernelspec": {
   "display_name": "Python 3 (ipykernel)",
   "language": "python",
   "name": "python3"
  },
  "language_info": {
   "codemirror_mode": {
    "name": "ipython",
    "version": 3
   },
   "file_extension": ".py",
   "mimetype": "text/x-python",
   "name": "python",
   "nbconvert_exporter": "python",
   "pygments_lexer": "ipython3",
   "version": "3.11.7"
  }
 },
 "nbformat": 4,
 "nbformat_minor": 5
}
