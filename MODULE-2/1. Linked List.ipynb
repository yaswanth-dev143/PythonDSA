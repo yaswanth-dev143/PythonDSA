{
 "cells": [
  {
   "cell_type": "markdown",
   "id": "81639773-cc9a-4548-9dfe-48a00defdd3d",
   "metadata": {},
   "source": [
    "# 1.Linked List Intrduction"
   ]
  },
  {
   "cell_type": "markdown",
   "id": "4ba8c4ff-e96f-47a8-a0b2-1368b2167cf7",
   "metadata": {},
   "source": [
    "The idea is to drop the contigious memeory requirement, \n",
    "so that insert/delete can happen faster"
   ]
  },
  {
   "cell_type": "markdown",
   "id": "f8693fe7-a283-468d-858e-57073c2695af",
   "metadata": {},
   "source": [
    "# 2. SIMPLE LINKED LIST IMPLEMENTATION"
   ]
  },
  {
   "cell_type": "code",
   "execution_count": null,
   "id": "543457a3-ca7f-442d-8339-07bc34a563cf",
   "metadata": {},
   "outputs": [],
   "source": [
    "class Node:\n",
    "    def __init__(Self,k):\n",
    "        Self.key = k\n",
    "        Self.next = None\n",
    "temp1 = Node(10)\n",
    "temp2= Node(20)\n",
    "temp3 = Node(30)\n",
    "temp1.next = temp2\n",
    "temp2.next = temp3\n",
    "head = temp1 \n",
    "\n",
    "while head:\n",
    "    print(head.key, end=\" \")\n",
    "    head = head.next\n"
   ]
  },
  {
   "cell_type": "markdown",
   "id": "00263c59-b8b8-45ff-af40-38a64ab7352a",
   "metadata": {},
   "source": [
    "# 3. APPLICATIONS OF LINKED LIST"
   ]
  },
  {
   "cell_type": "code",
   "execution_count": null,
   "id": "cecd2e6a-99d9-44d0-8275-c33ef8f82978",
   "metadata": {},
   "outputs": [],
   "source": []
  },
  {
   "cell_type": "markdown",
   "id": "cc33871c-62c3-4e61-bb19-997def54baef",
   "metadata": {},
   "source": [
    "# 4. TRAVERSING A LINKED LIST"
   ]
  },
  {
   "cell_type": "code",
   "execution_count": null,
   "id": "969844ab-0958-4dd2-b08d-5e4b97113e8b",
   "metadata": {},
   "outputs": [],
   "source": [
    "# geeks code\n",
    "class Node:\n",
    "    def __init__(self,key):\n",
    "        self.key = key\n",
    "        self.next = None\n",
    "        \n",
    "def printList(head):\n",
    "    current = head\n",
    "    while current != None:\n",
    "        print(current.key, end=\" -> \")\n",
    "        current = current.next\n",
    "        \n",
    "head = Node(10)\n",
    "head.next = Node(20)\n",
    "head.next.next = Node(15)\n",
    "head.next.next.next = Node(30)\n",
    "printList(head)        "
   ]
  },
  {
   "cell_type": "markdown",
   "id": "5b2ce906-631a-4112-86fd-885af5719d3b",
   "metadata": {},
   "source": [
    "# 5.Search in Linked List"
   ]
  },
  {
   "cell_type": "code",
   "execution_count": 10,
   "id": "d3807df3-d32a-4551-88bc-2c6e25e0e80c",
   "metadata": {},
   "outputs": [
    {
     "name": "stdout",
     "output_type": "stream",
     "text": [
      "10 -> 5 -> 20 -> 15 -> "
     ]
    },
    {
     "data": {
      "text/plain": [
       "3"
      ]
     },
     "execution_count": 10,
     "metadata": {},
     "output_type": "execute_result"
    }
   ],
   "source": [
    "# geeks code\n",
    "class Node:\n",
    "    def __init__(self,key):\n",
    "        self.key = key\n",
    "        self.next = None\n",
    "\n",
    "def printList(head):\n",
    "    while head:\n",
    "        print(head.key , end= \" -> \")\n",
    "        head = head.next\n",
    "\n",
    "def searchList(head,target):\n",
    "    i = 1\n",
    "    while head:\n",
    "        if head.key == target:\n",
    "            return i\n",
    "        i = i + 1\n",
    "        head = head.next\n",
    "    return \"Not Found\"\n",
    "        \n",
    "head = Node(10)\n",
    "head.next = Node(5)\n",
    "head.next.next = Node(20)\n",
    "head.next.next.next = Node(15)\n",
    "printList(head)\n",
    "searchList(head,20)"
   ]
  },
  {
   "cell_type": "markdown",
   "id": "860c286d-ab62-4b49-8bb7-1920962b4a88",
   "metadata": {},
   "source": [
    "# 06. INSERT AT THE BEGINING OF LINKED LIST"
   ]
  },
  {
   "cell_type": "code",
   "execution_count": 18,
   "id": "d003a953-3e08-4c50-9b68-0d737f17c683",
   "metadata": {},
   "outputs": [
    {
     "name": "stdout",
     "output_type": "stream",
     "text": [
      "25 -> 5 -> "
     ]
    }
   ],
   "source": [
    "class Node:\n",
    "    def __init__(self,key):\n",
    "        self.key = key\n",
    "        self.next = None\n",
    "        \n",
    "head = None\n",
    "head.next = Node(20)\n",
    "head.next.next = Node(30)\n",
    "\n",
    "## SHOW LIST\n",
    "def showList(head):\n",
    "    while head:\n",
    "        print(head.key , end=\" -> \")\n",
    "        head = head.next\n",
    "\n",
    "## INSERT AT THE BEGINNING\n",
    "def insertAtBeg(head,key):\n",
    "    temp = Node(key)\n",
    "    temp.next = head\n",
    "    return temp\n",
    "    \n",
    "head = insertAtBeg(head,5)\n",
    "head = insertAtBeg(head,25)\n",
    "showList(head)"
   ]
  },
  {
   "cell_type": "markdown",
   "id": "4235c632-df89-4b43-bbba-51e957da63d2",
   "metadata": {},
   "source": [
    "# 07. INSERT AT THE END OF LINKED LIST"
   ]
  },
  {
   "cell_type": "code",
   "execution_count": null,
   "id": "768e7ae4-c26a-44c3-9d6e-4074383bf0e0",
   "metadata": {},
   "outputs": [],
   "source": []
  }
 ],
 "metadata": {
  "kernelspec": {
   "display_name": "Python 3 (ipykernel)",
   "language": "python",
   "name": "python3"
  },
  "language_info": {
   "codemirror_mode": {
    "name": "ipython",
    "version": 3
   },
   "file_extension": ".py",
   "mimetype": "text/x-python",
   "name": "python",
   "nbconvert_exporter": "python",
   "pygments_lexer": "ipython3",
   "version": "3.11.7"
  }
 },
 "nbformat": 4,
 "nbformat_minor": 5
}
