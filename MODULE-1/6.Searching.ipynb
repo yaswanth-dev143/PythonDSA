{
 "cells": [
  {
   "cell_type": "markdown",
   "id": "a53a46e8-c848-465e-b647-ded7b320d0e8",
   "metadata": {},
   "source": [
    "# 1. BINARY SEARCH "
   ]
  },
  {
   "cell_type": "code",
   "execution_count": 6,
   "id": "6d9d6cf0-5c88-4b21-83d0-249c82f0cba0",
   "metadata": {},
   "outputs": [
    {
     "name": "stdout",
     "output_type": "stream",
     "text": [
      "Found at 3\n"
     ]
    }
   ],
   "source": [
    "l =[1,2,3,4,5,6,7,8]\n",
    "t = 4\n",
    "i = 0\n",
    "while i < len(l):\n",
    "    if l[i] == t:\n",
    "        print(\"Found at\", i)\n",
    "    i += 1"
   ]
  },
  {
   "cell_type": "code",
   "execution_count": 7,
   "id": "693f17b7-0dd7-4121-ac7e-7f36e7eae815",
   "metadata": {},
   "outputs": [
    {
     "data": {
      "text/plain": [
       "[2, 30]"
      ]
     },
     "execution_count": 7,
     "metadata": {},
     "output_type": "execute_result"
    }
   ],
   "source": [
    "def bin(list,tar):\n",
    "    low = 0\n",
    "    high = len(list)-1\n",
    "    while low <= high:\n",
    "        mid = (low + high)//2\n",
    "        if list[mid] == tar:\n",
    "            return [mid , list[mid]]\n",
    "        elif list[mid] < tar:\n",
    "            low = mid + 1\n",
    "        elif list[mid] > tar:\n",
    "            high = mid - 1\n",
    "    else:\n",
    "        return -1\n",
    "\n",
    "            \n",
    "list = [10,20,30,40,50,60,70,80]\n",
    "tar = 30\n",
    "bin(list,tar)"
   ]
  },
  {
   "cell_type": "code",
   "execution_count": 9,
   "id": "991090d9-e446-4635-8c14-9b7a276d15ea",
   "metadata": {},
   "outputs": [
    {
     "data": {
      "text/plain": [
       "[2, 30]"
      ]
     },
     "execution_count": 9,
     "metadata": {},
     "output_type": "execute_result"
    }
   ],
   "source": [
    "def bsearch(l,x,low,high):\n",
    "    if low > high:\n",
    "        return -1\n",
    "    mid = (low+high)//2\n",
    "    if l[mid] == x:\n",
    "        return [mid,l[mid]]\n",
    "    elif l[mid] > x:\n",
    "        return bsearch(l,x,low,mid+1)\n",
    "    else:\n",
    "        return bsearch(l,x,mid-1,high)\n",
    "bsearch([10,20,30,40,50,60,70],30,0,7)"
   ]
  },
  {
   "cell_type": "markdown",
   "id": "0df863d1-4fc5-4412-aa6c-13b4931d445e",
   "metadata": {},
   "source": [
    "# 6. COUNT OCCURENCES IN A SORTED ARRAY"
   ]
  },
  {
   "cell_type": "code",
   "execution_count": 25,
   "id": "2c238170-d0d5-400e-993a-699d06433f80",
   "metadata": {},
   "outputs": [
    {
     "data": {
      "text/plain": [
       "0"
      ]
     },
     "execution_count": 25,
     "metadata": {},
     "output_type": "execute_result"
    }
   ],
   "source": [
    "# MY CODE USING NAIVE METHOD TO FIND OCCURENCE OF NUM\n",
    "\n",
    "l = [10,15,20,30,30,30,40,40,60,50,50,30,30,30]\n",
    "def numocc(l,x):\n",
    "    res = 0\n",
    "    i = 0\n",
    "    while i < len(l):\n",
    "        if l[i] == x:\n",
    "            res = res + 1\n",
    "        i = i + 1\n",
    "    return res\n",
    "    \n",
    "numocc(l,100)          "
   ]
  },
  {
   "cell_type": "code",
   "execution_count": null,
   "id": "acdec1c9-13c8-4c2b-824d-cc82a08661ff",
   "metadata": {},
   "outputs": [],
   "source": [
    "# GEEKS CODE \n",
    "def countocc(l,x):\n",
    "    first = firstocc(l,x)\n",
    "    if first == -1:\n",
    "        return 0\n",
    "    else:\n",
    "        return lastocc(l,x)-first+1\n",
    "# - > the first occ (&) last occ are code we used to develop "
   ]
  }
 ],
 "metadata": {
  "kernelspec": {
   "display_name": "Python 3 (ipykernel)",
   "language": "python",
   "name": "python3"
  },
  "language_info": {
   "codemirror_mode": {
    "name": "ipython",
    "version": 3
   },
   "file_extension": ".py",
   "mimetype": "text/x-python",
   "name": "python",
   "nbconvert_exporter": "python",
   "pygments_lexer": "ipython3",
   "version": "3.11.7"
  }
 },
 "nbformat": 4,
 "nbformat_minor": 5
}
