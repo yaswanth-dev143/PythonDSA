{
 "cells": [
  {
   "cell_type": "markdown",
   "id": "23b071f9-0626-427b-bd87-29cf2f7ef7b1",
   "metadata": {},
   "source": [
    "# 1. ESCAPE AND RAW STRINGS "
   ]
  },
  {
   "cell_type": "code",
   "execution_count": 1,
   "id": "152e106f-7cd4-497c-b3d2-2605e6a9457b",
   "metadata": {},
   "outputs": [
    {
     "ename": "SyntaxError",
     "evalue": "unterminated string literal (detected at line 1) (4175436985.py, line 1)",
     "output_type": "error",
     "traceback": [
      "\u001b[1;36m  Cell \u001b[1;32mIn[1], line 1\u001b[1;36m\u001b[0m\n\u001b[1;33m    s = 'welcome to geek's course'\u001b[0m\n\u001b[1;37m                                 ^\u001b[0m\n\u001b[1;31mSyntaxError\u001b[0m\u001b[1;31m:\u001b[0m unterminated string literal (detected at line 1)\n"
     ]
    }
   ],
   "source": [
    "s = 'welcome to geek's course'\n",
    "print(s)"
   ]
  },
  {
   "cell_type": "code",
   "execution_count": 2,
   "id": "bc53ca9a-05fb-40a2-8b13-6d4e3e11ce56",
   "metadata": {},
   "outputs": [
    {
     "name": "stdout",
     "output_type": "stream",
     "text": [
      "welcome to geek's course\n"
     ]
    }
   ],
   "source": [
    "#corrected program\n",
    "s = 'welcome to geek\\'s course' # \\ its the escape the error sequence\n",
    "print(s)"
   ]
  },
  {
   "cell_type": "code",
   "execution_count": 4,
   "id": "734b62be-70f9-4a38-9e19-07459312fc62",
   "metadata": {},
   "outputs": [
    {
     "name": "stdout",
     "output_type": "stream",
     "text": [
      "Hi,\n",
      " welcome to course\n"
     ]
    }
   ],
   "source": [
    "# USING OF \\n FOR THE NEW LINE\n",
    "s= \"Hi,\\n welcome to course\"\n",
    "print(s)"
   ]
  },
  {
   "cell_type": "code",
   "execution_count": 5,
   "id": "97bc99ff-9cab-40e2-94d1-bdc9de572fb8",
   "metadata": {},
   "outputs": [
    {
     "name": "stdout",
     "output_type": "stream",
     "text": [
      "c:\\project\n",
      "ame.py\n",
      "c:\\project\\name.py\n"
     ]
    }
   ],
   "source": [
    "# RAW STRING\n",
    "s1 = \"c:\\project\\name.py\"\n",
    "s2 = r\"c:\\project\\name.py\" # r MAKES RAW STRING MEANS NON PROCESS STRIMG\n",
    "print(s1)\n",
    "print(s2)"
   ]
  },
  {
   "cell_type": "markdown",
   "id": "da211fc9-a5a7-4ae4-9742-47c94f7019ff",
   "metadata": {},
   "source": [
    "# 2.REVERSSE A STRING\n"
   ]
  },
  {
   "cell_type": "code",
   "execution_count": 12,
   "id": "654f9ecd-3a7d-4709-8609-48fa2756dd69",
   "metadata": {},
   "outputs": [
    {
     "name": "stdin",
     "output_type": "stream",
     "text": [
      "Enter the string:  rekcuf\n"
     ]
    },
    {
     "name": "stdout",
     "output_type": "stream",
     "text": [
      "fucker\n"
     ]
    }
   ],
   "source": [
    "s = input(\"Enter the string: \")\n",
    "rev = \"\"\n",
    "for x in s:\n",
    "    rev = x + rev\n",
    "print(rev)"
   ]
  },
  {
   "cell_type": "code",
   "execution_count": 13,
   "id": "9d9a951a-5799-4c14-818a-058243ef8ff5",
   "metadata": {},
   "outputs": [
    {
     "name": "stdout",
     "output_type": "stream",
     "text": [
      "fucker\n"
     ]
    }
   ],
   "source": [
    "# slcing\n",
    "print(s[::-1])"
   ]
  },
  {
   "cell_type": "markdown",
   "id": "c0544b69-c0f2-4f98-88ee-5a806cb18b4c",
   "metadata": {},
   "source": [
    "# 3. STRING COMPARISION"
   ]
  },
  {
   "cell_type": "code",
   "execution_count": 14,
   "id": "6eef58fb-86cb-4aa2-b358-67100c05c5ab",
   "metadata": {},
   "outputs": [
    {
     "name": "stdout",
     "output_type": "stream",
     "text": [
      "True\n",
      "False\n",
      "False\n",
      "True\n",
      "False\n",
      "True\n"
     ]
    }
   ],
   "source": [
    "s1  = \"geeksforgeeks\"\n",
    "s2= \"ide\"\n",
    "print(s1<s2)\n",
    "print(s1>s2)\n",
    "print(s1>=s2)\n",
    "print(s1<=s2)\n",
    "print(s1==s2)\n",
    "print(s1!=s2)\n",
    "# LOWER ALPHABETS > CAPITAL ALPHABETS in terms of ASCII value"
   ]
  },
  {
   "cell_type": "markdown",
   "id": "af379ba2-20f1-4eed-a5f8-5f43ddf3eb2a",
   "metadata": {},
   "source": [
    " # 4. STRING IN PYTHON"
   ]
  },
  {
   "cell_type": "code",
   "execution_count": 17,
   "id": "6ac025b7-e045-4004-be3c-44c97a87a83e",
   "metadata": {},
   "outputs": [
    {
     "name": "stdout",
     "output_type": "stream",
     "text": [
      "97\n",
      "a\n"
     ]
    }
   ],
   "source": [
    "print(ord('a'))\n",
    "print(chr(97))"
   ]
  },
  {
   "cell_type": "code",
   "execution_count": 19,
   "id": "96b3e9d2-bb78-4842-b057-fe4cad2d5414",
   "metadata": {},
   "outputs": [
    {
     "name": "stdout",
     "output_type": "stream",
     "text": [
      "geeks\n",
      "g\n",
      "s\n",
      "e\n",
      "k\n"
     ]
    }
   ],
   "source": [
    "# string are alike lists\n",
    "s = \"geeks\"\n",
    "print(s)\n",
    "print(s[0])\n",
    "print(s[-1])\n",
    "print(s[1])\n",
    "print(s[-2])"
   ]
  },
  {
   "cell_type": "code",
   "execution_count": 20,
   "id": "9f0997df-5d2c-4c0f-aaf4-afd3baa3122f",
   "metadata": {},
   "outputs": [
    {
     "ename": "TypeError",
     "evalue": "'str' object does not support item assignment",
     "output_type": "error",
     "traceback": [
      "\u001b[1;31m---------------------------------------------------------------------------\u001b[0m",
      "\u001b[1;31mTypeError\u001b[0m                                 Traceback (most recent call last)",
      "Cell \u001b[1;32mIn[20], line 3\u001b[0m\n\u001b[0;32m      1\u001b[0m \u001b[38;5;66;03m# STRINGS ARE IMMUTABLE\u001b[39;00m\n\u001b[0;32m      2\u001b[0m s \u001b[38;5;241m=\u001b[39m\u001b[38;5;124m\"\u001b[39m\u001b[38;5;124mgeeks\u001b[39m\u001b[38;5;124m\"\u001b[39m\n\u001b[1;32m----> 3\u001b[0m s[\u001b[38;5;241m0\u001b[39m] \u001b[38;5;241m=\u001b[39m \u001b[38;5;124m\"\u001b[39m\u001b[38;5;124mw\u001b[39m\u001b[38;5;124m\"\u001b[39m\n\u001b[0;32m      4\u001b[0m \u001b[38;5;28mprint\u001b[39m(s)\n",
      "\u001b[1;31mTypeError\u001b[0m: 'str' object does not support item assignment"
     ]
    }
   ],
   "source": [
    "# STRINGS ARE IMMUTABLE\n",
    "s =\"geeks\"\n",
    "s[0] = \"w\"\n",
    "print(s)"
   ]
  },
  {
   "cell_type": "code",
   "execution_count": 23,
   "id": "88109aa1-c859-4180-9fb2-b26e9b75c152",
   "metadata": {},
   "outputs": [
    {
     "name": "stdout",
     "output_type": "stream",
     "text": [
      " hi\n",
      "THIS IS PYTHON COURSE \n",
      "HOPE YOU CAN ENJOY THEM\n",
      "L \n"
     ]
    }
   ],
   "source": [
    "# MULTI-LINE STRINGS\n",
    "S = \"\"\" hi\n",
    "THIS IS PYTHON COURSE \n",
    "HOPE YOU CAN ENJOY THEM\n",
    "L \"\"\"\n",
    "print(S)"
   ]
  },
  {
   "cell_type": "markdown",
   "id": "938a56d0-4dc9-4e99-8582-35c021ea6c60",
   "metadata": {},
   "source": [
    "# 5. FORMMATTED STRING IN PYTHON"
   ]
  },
  {
   "cell_type": "code",
   "execution_count": 1,
   "id": "878825c3-01b7-4f41-8a3f-01409102a093",
   "metadata": {},
   "outputs": [],
   "source": [
    "name = \"ABC\"\n",
    "course = \"Python Course\""
   ]
  },
  {
   "cell_type": "code",
   "execution_count": 2,
   "id": "7a5005df-97f9-40ed-bb43-2dafaf8e2af1",
   "metadata": {},
   "outputs": [],
   "source": [
    "# using % like c language"
   ]
  },
  {
   "cell_type": "markdown",
   "id": "9e32311a-2c1e-42f9-b734-e81ca991a975",
   "metadata": {},
   "source": [
    "# 6. STRING OPERATIONS"
   ]
  },
  {
   "cell_type": "code",
   "execution_count": 9,
   "id": "432c2a01-311c-4b10-9a57-744db87b7fbc",
   "metadata": {},
   "outputs": [
    {
     "name": "stdout",
     "output_type": "stream",
     "text": [
      "DA\n",
      "AB\n",
      "BC\n",
      "CD\n"
     ]
    }
   ],
   "source": [
    "s = \"ABCD\"\n",
    "for i in range(0,len(s)):\n",
    "    r = s[i-1] + s[i]\n",
    "    print(r)"
   ]
  },
  {
   "cell_type": "code",
   "execution_count": null,
   "id": "7f1bafc8-8284-4865-9e42-1647a2f18dcf",
   "metadata": {},
   "outputs": [],
   "source": []
  }
 ],
 "metadata": {
  "kernelspec": {
   "display_name": "Python 3 (ipykernel)",
   "language": "python",
   "name": "python3"
  },
  "language_info": {
   "codemirror_mode": {
    "name": "ipython",
    "version": 3
   },
   "file_extension": ".py",
   "mimetype": "text/x-python",
   "name": "python",
   "nbconvert_exporter": "python",
   "pygments_lexer": "ipython3",
   "version": "3.11.7"
  }
 },
 "nbformat": 4,
 "nbformat_minor": 5
}
