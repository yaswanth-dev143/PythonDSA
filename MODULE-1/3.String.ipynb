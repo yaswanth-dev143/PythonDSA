{
 "cells": [
  {
   "cell_type": "markdown",
   "id": "23b071f9-0626-427b-bd87-29cf2f7ef7b1",
   "metadata": {},
   "source": [
    "# 1. ESCAPE AND RAW STRINGS "
   ]
  },
  {
   "cell_type": "code",
   "execution_count": 1,
   "id": "152e106f-7cd4-497c-b3d2-2605e6a9457b",
   "metadata": {},
   "outputs": [
    {
     "ename": "SyntaxError",
     "evalue": "unterminated string literal (detected at line 1) (4175436985.py, line 1)",
     "output_type": "error",
     "traceback": [
      "\u001b[1;36m  Cell \u001b[1;32mIn[1], line 1\u001b[1;36m\u001b[0m\n\u001b[1;33m    s = 'welcome to geek's course'\u001b[0m\n\u001b[1;37m                                 ^\u001b[0m\n\u001b[1;31mSyntaxError\u001b[0m\u001b[1;31m:\u001b[0m unterminated string literal (detected at line 1)\n"
     ]
    }
   ],
   "source": [
    "s = 'welcome to geek's course'\n",
    "print(s)"
   ]
  },
  {
   "cell_type": "code",
   "execution_count": 2,
   "id": "bc53ca9a-05fb-40a2-8b13-6d4e3e11ce56",
   "metadata": {},
   "outputs": [
    {
     "name": "stdout",
     "output_type": "stream",
     "text": [
      "welcome to geek's course\n"
     ]
    }
   ],
   "source": [
    "#corrected program\n",
    "s = 'welcome to geek\\'s course' # \\ its the escape the error sequence\n",
    "print(s)"
   ]
  },
  {
   "cell_type": "code",
   "execution_count": 4,
   "id": "734b62be-70f9-4a38-9e19-07459312fc62",
   "metadata": {},
   "outputs": [
    {
     "name": "stdout",
     "output_type": "stream",
     "text": [
      "Hi,\n",
      " welcome to course\n"
     ]
    }
   ],
   "source": [
    "# USING OF \\n FOR THE NEW LINE\n",
    "s= \"Hi,\\n welcome to course\"\n",
    "print(s)"
   ]
  },
  {
   "cell_type": "code",
   "execution_count": 5,
   "id": "97bc99ff-9cab-40e2-94d1-bdc9de572fb8",
   "metadata": {},
   "outputs": [
    {
     "name": "stdout",
     "output_type": "stream",
     "text": [
      "c:\\project\n",
      "ame.py\n",
      "c:\\project\\name.py\n"
     ]
    }
   ],
   "source": [
    "# RAW STRING\n",
    "s1 = \"c:\\project\\name.py\"\n",
    "s2 = r\"c:\\project\\name.py\" # r MAKES RAW STRING MEANS NON PROCESS STRIMG\n",
    "print(s1)\n",
    "print(s2)"
   ]
  },
  {
   "cell_type": "markdown",
   "id": "da211fc9-a5a7-4ae4-9742-47c94f7019ff",
   "metadata": {},
   "source": [
    "# 2.REVERSSE A STRING\n"
   ]
  },
  {
   "cell_type": "code",
   "execution_count": 12,
   "id": "654f9ecd-3a7d-4709-8609-48fa2756dd69",
   "metadata": {},
   "outputs": [
    {
     "name": "stdin",
     "output_type": "stream",
     "text": [
      "Enter the string:  rekcuf\n"
     ]
    },
    {
     "name": "stdout",
     "output_type": "stream",
     "text": [
      "fucker\n"
     ]
    }
   ],
   "source": [
    "s = input(\"Enter the string: \")\n",
    "rev = \"\"\n",
    "for x in s:\n",
    "    rev = x + rev\n",
    "print(rev)"
   ]
  },
  {
   "cell_type": "code",
   "execution_count": 13,
   "id": "9d9a951a-5799-4c14-818a-058243ef8ff5",
   "metadata": {},
   "outputs": [
    {
     "name": "stdout",
     "output_type": "stream",
     "text": [
      "fucker\n"
     ]
    }
   ],
   "source": [
    "# slcing\n",
    "print(s[::-1])"
   ]
  },
  {
   "cell_type": "markdown",
   "id": "c0544b69-c0f2-4f98-88ee-5a806cb18b4c",
   "metadata": {},
   "source": [
    "# 3. STRING COMPARISION"
   ]
  },
  {
   "cell_type": "code",
   "execution_count": 14,
   "id": "6eef58fb-86cb-4aa2-b358-67100c05c5ab",
   "metadata": {},
   "outputs": [
    {
     "name": "stdout",
     "output_type": "stream",
     "text": [
      "True\n",
      "False\n",
      "False\n",
      "True\n",
      "False\n",
      "True\n"
     ]
    }
   ],
   "source": [
    "s1  = \"geeksforgeeks\"\n",
    "s2= \"ide\"\n",
    "print(s1<s2)\n",
    "print(s1>s2)\n",
    "print(s1>=s2)\n",
    "print(s1<=s2)\n",
    "print(s1==s2)\n",
    "print(s1!=s2)\n",
    "# LOWER ALPHABETS > CAPITAL ALPHABETS in terms of ASCII value"
   ]
  },
  {
   "cell_type": "markdown",
   "id": "af379ba2-20f1-4eed-a5f8-5f43ddf3eb2a",
   "metadata": {},
   "source": [
    " # 4. STRING IN PYTHON"
   ]
  },
  {
   "cell_type": "code",
   "execution_count": 17,
   "id": "6ac025b7-e045-4004-be3c-44c97a87a83e",
   "metadata": {},
   "outputs": [
    {
     "name": "stdout",
     "output_type": "stream",
     "text": [
      "97\n",
      "a\n"
     ]
    }
   ],
   "source": [
    "print(ord('a'))\n",
    "print(chr(97))"
   ]
  },
  {
   "cell_type": "code",
   "execution_count": 19,
   "id": "96b3e9d2-bb78-4842-b057-fe4cad2d5414",
   "metadata": {},
   "outputs": [
    {
     "name": "stdout",
     "output_type": "stream",
     "text": [
      "geeks\n",
      "g\n",
      "s\n",
      "e\n",
      "k\n"
     ]
    }
   ],
   "source": [
    "# string are alike lists\n",
    "s = \"geeks\"\n",
    "print(s)\n",
    "print(s[0])\n",
    "print(s[-1])\n",
    "print(s[1])\n",
    "print(s[-2])"
   ]
  },
  {
   "cell_type": "code",
   "execution_count": 20,
   "id": "9f0997df-5d2c-4c0f-aaf4-afd3baa3122f",
   "metadata": {},
   "outputs": [
    {
     "ename": "TypeError",
     "evalue": "'str' object does not support item assignment",
     "output_type": "error",
     "traceback": [
      "\u001b[1;31m---------------------------------------------------------------------------\u001b[0m",
      "\u001b[1;31mTypeError\u001b[0m                                 Traceback (most recent call last)",
      "Cell \u001b[1;32mIn[20], line 3\u001b[0m\n\u001b[0;32m      1\u001b[0m \u001b[38;5;66;03m# STRINGS ARE IMMUTABLE\u001b[39;00m\n\u001b[0;32m      2\u001b[0m s \u001b[38;5;241m=\u001b[39m\u001b[38;5;124m\"\u001b[39m\u001b[38;5;124mgeeks\u001b[39m\u001b[38;5;124m\"\u001b[39m\n\u001b[1;32m----> 3\u001b[0m s[\u001b[38;5;241m0\u001b[39m] \u001b[38;5;241m=\u001b[39m \u001b[38;5;124m\"\u001b[39m\u001b[38;5;124mw\u001b[39m\u001b[38;5;124m\"\u001b[39m\n\u001b[0;32m      4\u001b[0m \u001b[38;5;28mprint\u001b[39m(s)\n",
      "\u001b[1;31mTypeError\u001b[0m: 'str' object does not support item assignment"
     ]
    }
   ],
   "source": [
    "# STRINGS ARE IMMUTABLE\n",
    "s =\"geeks\"\n",
    "s[0] = \"w\"\n",
    "print(s)"
   ]
  },
  {
   "cell_type": "code",
   "execution_count": 23,
   "id": "88109aa1-c859-4180-9fb2-b26e9b75c152",
   "metadata": {},
   "outputs": [
    {
     "name": "stdout",
     "output_type": "stream",
     "text": [
      " hi\n",
      "THIS IS PYTHON COURSE \n",
      "HOPE YOU CAN ENJOY THEM\n",
      "L \n"
     ]
    }
   ],
   "source": [
    "# MULTI-LINE STRINGS\n",
    "S = \"\"\" hi\n",
    "THIS IS PYTHON COURSE \n",
    "HOPE YOU CAN ENJOY THEM\n",
    "L \"\"\"\n",
    "print(S)"
   ]
  },
  {
   "cell_type": "markdown",
   "id": "938a56d0-4dc9-4e99-8582-35c021ea6c60",
   "metadata": {},
   "source": [
    "# 5. FORMMATTED STRING IN PYTHON"
   ]
  },
  {
   "cell_type": "code",
   "execution_count": 12,
   "id": "878825c3-01b7-4f41-8a3f-01409102a093",
   "metadata": {},
   "outputs": [],
   "source": [
    "name = \"ABC\"\n",
    "course = \"Python Course\""
   ]
  },
  {
   "cell_type": "code",
   "execution_count": 14,
   "id": "7a5005df-97f9-40ed-bb43-2dafaf8e2af1",
   "metadata": {},
   "outputs": [
    {
     "name": "stdout",
     "output_type": "stream",
     "text": [
      " welcome ABC to the Python Course\n"
     ]
    }
   ],
   "source": [
    "# using % like c language\n",
    "s = \" welcome %s to the %s\"%(name,course)\n",
    "print(s)"
   ]
  },
  {
   "cell_type": "code",
   "execution_count": 15,
   "id": "b77380d2-9a20-4b3f-a5ae-473442e207eb",
   "metadata": {},
   "outputs": [
    {
     "name": "stdout",
     "output_type": "stream",
     "text": [
      "welcome ABC to the Python Course\n"
     ]
    }
   ],
   "source": [
    "# using format function\n",
    "s1 = \"welcome {0} to the {1}\".format(name,course)\n",
    "print(s1)"
   ]
  },
  {
   "cell_type": "code",
   "execution_count": 16,
   "id": "79892a60-9f30-4142-bbd7-eb2ff0a661e5",
   "metadata": {},
   "outputs": [
    {
     "name": "stdout",
     "output_type": "stream",
     "text": [
      "welcome ABC to the Python Course\n"
     ]
    }
   ],
   "source": [
    "# using f string\n",
    "s2 = f\"welcome {name} to the {course}\"\n",
    "print(s2)"
   ]
  },
  {
   "cell_type": "markdown",
   "id": "9e32311a-2c1e-42f9-b734-e81ca991a975",
   "metadata": {},
   "source": [
    "# 6. STRING OPERATIONS"
   ]
  },
  {
   "cell_type": "code",
   "execution_count": 17,
   "id": "432c2a01-311c-4b10-9a57-744db87b7fbc",
   "metadata": {},
   "outputs": [
    {
     "name": "stdout",
     "output_type": "stream",
     "text": [
      "True\n"
     ]
    }
   ],
   "source": [
    "# substring\n",
    "s1 = \"geeks for geeks\"\n",
    "s2 = \"geeks\"\n",
    "print(s2 in s1)"
   ]
  },
  {
   "cell_type": "code",
   "execution_count": 19,
   "id": "7e63f50a-8667-49fa-a1f6-7f00ca786e4d",
   "metadata": {},
   "outputs": [
    {
     "name": "stdout",
     "output_type": "stream",
     "text": [
      "0\n",
      "10\n",
      "0\n"
     ]
    }
   ],
   "source": [
    "# Finding position of sub-string\n",
    "s1 = \"geeks for geeks\"\n",
    "s2 = \"geeks\"\n",
    "print(s1.index(s2)) # fins the posotion \n",
    "print(s1.rindex(s2)) # find the postion from last\n",
    "print(s1.index(s2,0,13)) #it search from specific index to index"
   ]
  },
  {
   "cell_type": "markdown",
   "id": "a8b1a851-4a10-4bec-9c2b-5307d8375f12",
   "metadata": {},
   "source": [
    "# 7. STRING OPERATIONS"
   ]
  },
  {
   "cell_type": "code",
   "execution_count": null,
   "id": "f3a7bbef-898b-42c8-b46a-67d746aa9f99",
   "metadata": {},
   "outputs": [],
   "source": [
    "-> len()\n",
    "-> upper()\n",
    "-> lower()\n",
    "-> startswith()\n",
    "-> endswith()\n",
    "-> split()\n",
    "-> .join()\n",
    "-> strip()\n",
    "-> lstrip()\n",
    "-> rstrip()"
   ]
  },
  {
   "cell_type": "markdown",
   "id": "0d8f2fc7-fc7b-4ea3-b057-0fcd2444d081",
   "metadata": {},
   "source": [
    "# 8. PATTERN SEARCHING IN PYTHON"
   ]
  },
  {
   "cell_type": "code",
   "execution_count": 19,
   "id": "367e5393-8b09-4f9c-a962-15486dfe8eb6",
   "metadata": {},
   "outputs": [
    {
     "name": "stdout",
     "output_type": "stream",
     "text": [
      "0\n",
      "10\n"
     ]
    }
   ],
   "source": [
    "txt = \"geeks for geeks\"\n",
    "pat = \"geeks\"\n",
    "res = txt.find(pat)\n",
    "while res >= 0:\n",
    "    print(res)\n",
    "    res = txt.find(pat,res+1)"
   ]
  },
  {
   "cell_type": "markdown",
   "id": "3172a1b7-b540-4f80-a2d0-a15cccde0a29",
   "metadata": {},
   "source": [
    "# 9.  CHECK FOR THE PALINDROME"
   ]
  },
  {
   "cell_type": "code",
   "execution_count": 7,
   "id": "5c8ab91e-651d-49b8-b9db-c7e526ff618d",
   "metadata": {},
   "outputs": [
    {
     "name": "stdin",
     "output_type": "stream",
     "text": [
      " yuyuhd\n"
     ]
    },
    {
     "name": "stdout",
     "output_type": "stream",
     "text": [
      "No\n"
     ]
    }
   ],
   "source": [
    "# MY CODE\n",
    "a = input()\n",
    "res = a[::-1]\n",
    "if (a == res):\n",
    "    print(\"yes\")\n",
    "else:\n",
    "    print(\"No\")"
   ]
  },
  {
   "cell_type": "code",
   "execution_count": 18,
   "id": "215fd938-edd4-410f-b509-42f850679a23",
   "metadata": {},
   "outputs": [
    {
     "name": "stdin",
     "output_type": "stream",
     "text": [
      " Aha\n"
     ]
    },
    {
     "data": {
      "text/plain": [
       "'NO'"
      ]
     },
     "execution_count": 18,
     "metadata": {},
     "output_type": "execute_result"
    }
   ],
   "source": [
    "# MY CODE\n",
    "def isPalindome(a):\n",
    "    res = \"\"\n",
    "    for x in a:\n",
    "        res = x + res\n",
    "    if res == a:\n",
    "        return \"YES\"\n",
    "    else:\n",
    "        return \"NO\"\n",
    "a = input()\n",
    "isPalindome(a)"
   ]
  },
  {
   "cell_type": "code",
   "execution_count": 2,
   "id": "b47a2c70-e526-4f5b-8cef-760983301485",
   "metadata": {},
   "outputs": [
    {
     "name": "stdin",
     "output_type": "stream",
     "text": [
      " rdx\n"
     ]
    },
    {
     "data": {
      "text/plain": [
       "'NO'"
      ]
     },
     "execution_count": 2,
     "metadata": {},
     "output_type": "execute_result"
    }
   ],
   "source": [
    "# GEEKS CODE\n",
    "def Pal(s):\n",
    "    low = 0\n",
    "    high = len(s)-1\n",
    "    while low < high:\n",
    "        if s[low] != s[high]:\n",
    "            return \"NO\"\n",
    "            break\n",
    "            low = low+1\n",
    "            high= high-1\n",
    "    else:\n",
    "        return \"YES\"\n",
    "a = input()\n",
    "Pal(a)"
   ]
  },
  {
   "cell_type": "markdown",
   "id": "36cd0c26-4275-4e94-94d8-548d78e8f805",
   "metadata": {},
   "source": [
    "# 10 CHECKING FOR ANAGRAMS"
   ]
  },
  {
   "cell_type": "code",
   "execution_count": 5,
   "id": "a30794b9-0662-4180-8c52-71247c2e67f6",
   "metadata": {},
   "outputs": [
    {
     "name": "stdin",
     "output_type": "stream",
     "text": [
      " listen\n",
      " silent\n"
     ]
    },
    {
     "data": {
      "text/plain": [
       "'YES'"
      ]
     },
     "execution_count": 5,
     "metadata": {},
     "output_type": "execute_result"
    }
   ],
   "source": [
    "def isAna(s,a):\n",
    "    x = sorted(s)\n",
    "    y = sorted(a)\n",
    "    if x==y:\n",
    "        return \"YES\"\n",
    "    else:\n",
    "        return \"NO\"\n",
    "s = input()\n",
    "a = input()\n",
    "isAna(s,a)\n",
    "    "
   ]
  },
  {
   "cell_type": "code",
   "execution_count": 10,
   "id": "fec0a646-7f36-42c2-a61e-78df93180b7c",
   "metadata": {},
   "outputs": [
    {
     "name": "stdin",
     "output_type": "stream",
     "text": [
      " tree\n",
      " eert\n"
     ]
    },
    {
     "data": {
      "text/plain": [
       "True"
      ]
     },
     "execution_count": 10,
     "metadata": {},
     "output_type": "execute_result"
    }
   ],
   "source": [
    "def areAna(s1,s2):\n",
    "    if len(s1) != len(s2):\n",
    "        return False\n",
    "    count = [0]*256\n",
    "    for i in range(len(s1)):\n",
    "        count[ord(s1[i])] += 1\n",
    "        count[ord(s2[i])] -= 1\n",
    "    for x in count:\n",
    "        if x != 0:\n",
    "            return False\n",
    "    return True\n",
    "\n",
    "a = input()\n",
    "s = input()\n",
    "areAna(a,s)"
   ]
  },
  {
   "cell_type": "code",
   "execution_count": null,
   "id": "fca2005a-7a79-4b9f-87a6-82e72e55597e",
   "metadata": {},
   "outputs": [],
   "source": []
  }
 ],
 "metadata": {
  "kernelspec": {
   "display_name": "Python 3 (ipykernel)",
   "language": "python",
   "name": "python3"
  },
  "language_info": {
   "codemirror_mode": {
    "name": "ipython",
    "version": 3
   },
   "file_extension": ".py",
   "mimetype": "text/x-python",
   "name": "python",
   "nbconvert_exporter": "python",
   "pygments_lexer": "ipython3",
   "version": "3.11.7"
  }
 },
 "nbformat": 4,
 "nbformat_minor": 5
}
