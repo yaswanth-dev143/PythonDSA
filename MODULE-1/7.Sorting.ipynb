{
 "cells": [
  {
   "cell_type": "markdown",
   "id": "b5466311-75ba-43e2-9dec-be65c2086519",
   "metadata": {},
   "source": [
    "# 1.BUBBLE SORT"
   ]
  },
  {
   "cell_type": "code",
   "execution_count": 1,
   "id": "7555e6ce-444f-4501-a2a4-cc250583c248",
   "metadata": {},
   "outputs": [
    {
     "data": {
      "text/plain": [
       "[2, 10, 34, 45, 90]"
      ]
     },
     "execution_count": 1,
     "metadata": {},
     "output_type": "execute_result"
    }
   ],
   "source": [
    "# geeks code\n",
    "def bubble_sort(l):\n",
    "    n = len(l)\n",
    "    for i in range(n-1):\n",
    "        for j in range(n-i-1):\n",
    "            if l[j] > l[j+1]:\n",
    "                l[j],l[j+1] = l[j+1],l[j]\n",
    "    return l\n",
    "bubble_sort([10,2,45,90,34])"
   ]
  },
  {
   "cell_type": "code",
   "execution_count": 6,
   "id": "4976f6ec-da6b-4870-984a-b84f3a48bbcf",
   "metadata": {},
   "outputs": [
    {
     "name": "stdout",
     "output_type": "stream",
     "text": [
      "hello--- 0\n",
      "fuck 0\n",
      "fuck 1\n",
      "fuck 2\n",
      "fuck 3\n",
      "hello--- 1\n",
      "fuck 0\n",
      "fuck 1\n",
      "fuck 2\n",
      "hello--- 2\n",
      "fuck 0\n",
      "fuck 1\n",
      "hello--- 3\n",
      "fuck 0\n"
     ]
    }
   ],
   "source": [
    "# understanding the logic\n",
    "n = 5\n",
    "for i in range(n-1):\n",
    "    print(\"hello---\",i)\n",
    "    for j in range(n-i-1):\n",
    "        print(\"fuck\",j)"
   ]
  },
  {
   "cell_type": "markdown",
   "id": "00cb7a10-7660-475c-8dba-556dc8affca3",
   "metadata": {},
   "source": [
    "# 2.SELETION SORT"
   ]
  },
  {
   "cell_type": "code",
   "execution_count": 21,
   "id": "1aed220c-de50-45cb-8962-0739b1f99c90",
   "metadata": {},
   "outputs": [
    {
     "name": "stdout",
     "output_type": "stream",
     "text": [
      "actual array: [10, 2, 45, 90, 34]\n",
      "[2, 10, 45, 90, 34]\n",
      "[2, 10, 34, 90, 45]\n",
      "[2, 10, 34, 45, 90]\n"
     ]
    },
    {
     "data": {
      "text/plain": [
       "[2, 10, 34, 45, 90]"
      ]
     },
     "execution_count": 21,
     "metadata": {},
     "output_type": "execute_result"
    }
   ],
   "source": [
    "def selection_sort(l):\n",
    "    print(\"actual array:\",l)\n",
    "    n = len(l)\n",
    "    for i in range(n-1):\n",
    "        min_ind = i\n",
    "        for j in range(i+1,n):\n",
    "            if l[j] < l[min_ind]:\n",
    "                min_ind = j\n",
    "                l[min_ind],l[i] = l[i],l[min_ind]\n",
    "                print(l)\n",
    "    return l\n",
    "selection_sort([10,2,45,90,34])"
   ]
  },
  {
   "cell_type": "markdown",
   "id": "8522bae9-a1de-4a73-8c91-1a14e8b39c19",
   "metadata": {},
   "source": [
    "# 3.INSERTION SORT"
   ]
  },
  {
   "cell_type": "code",
   "execution_count": 29,
   "id": "e3b9783f-c7a8-4141-aaf9-f5aa6ad57908",
   "metadata": {},
   "outputs": [
    {
     "data": {
      "text/plain": [
       "[10, 20, 30]"
      ]
     },
     "execution_count": 29,
     "metadata": {},
     "output_type": "execute_result"
    }
   ],
   "source": [
    "def insertion_sort(l):\n",
    "    for i in range(1,len(l)):\n",
    "        x = l[i]\n",
    "        j = i-1\n",
    "        while j >= 0 and x < l[j]:\n",
    "            l[j+1] = l[j]\n",
    "            j = j - 1\n",
    "        l[j+1] = x\n",
    "    return l \n",
    "insertion_sort([30,20,10])"
   ]
  },
  {
   "cell_type": "markdown",
   "id": "10dda9a4-dace-4c11-a847-6938f1aea30c",
   "metadata": {},
   "source": [
    "# 4.MERGE THE TWO SORTED ARRAYS"
   ]
  },
  {
   "cell_type": "code",
   "execution_count": 1,
   "id": "0b704db6-ad85-483b-9c81-3ecb502ea0f1",
   "metadata": {},
   "outputs": [
    {
     "data": {
      "text/plain": [
       "[1, 2, 3, 34, 44]"
      ]
     },
     "execution_count": 1,
     "metadata": {},
     "output_type": "execute_result"
    }
   ],
   "source": [
    "# NAIVE METHOD\n",
    "def merge(a,b):\n",
    "    res = a + b\n",
    "    res.sort()\n",
    "    return res\n",
    "merge([2,34,44],[1,3])"
   ]
  },
  {
   "cell_type": "code",
   "execution_count": 3,
   "id": "6ae903eb-722f-4e12-9ba8-1c3e695e0e8d",
   "metadata": {},
   "outputs": [
    {
     "data": {
      "text/plain": [
       "[2, 3, 4, 23, 34, 67, 567, 765]"
      ]
     },
     "execution_count": 3,
     "metadata": {},
     "output_type": "execute_result"
    }
   ],
   "source": [
    "def merge_list(a,b):\n",
    "    res = []\n",
    "    m = len(a)\n",
    "    n = len(b)\n",
    "    i = 0\n",
    "    j = 0\n",
    "    while i < m and j < n:\n",
    "        if a[i] < b[j]:\n",
    "            res.append(a[i])\n",
    "            i = i + 1\n",
    "        else:\n",
    "            res.append(b[j])\n",
    "            j = j + 1\n",
    "    while i < m:\n",
    "        res.append(a[i])\n",
    "        i = i + 1\n",
    "    while j < n:\n",
    "        res.append(b[j])\n",
    "        j = j + 1\n",
    "    return res\n",
    "merge_list([3,4,23,34],[2,67,567,765])"
   ]
  },
  {
   "cell_type": "markdown",
   "id": "e3aa966b-628d-4843-9907-9f9c88e4871c",
   "metadata": {},
   "source": [
    "# 5.MERGE SUB-ARRAYS"
   ]
  },
  {
   "cell_type": "code",
   "execution_count": 14,
   "id": "930e03f7-9cd1-40a6-989e-61c53b5d7f0b",
   "metadata": {},
   "outputs": [
    {
     "data": {
      "text/plain": [
       "[8, 10, 11, 15, 20, 40, 55]"
      ]
     },
     "execution_count": 14,
     "metadata": {},
     "output_type": "execute_result"
    }
   ],
   "source": [
    "#MY CODE\n",
    "def mergey(a,low,mid,high):\n",
    "    left = a[low : mid+1]\n",
    "    right = a[mid+1 : high+1]\n",
    "    m = len(left)\n",
    "    n = len(right)\n",
    "    i = 0\n",
    "    j = 0\n",
    "    res = []\n",
    "    while i < m and j < n:\n",
    "        if left[i] < right[j]:\n",
    "            res.append(left[i])\n",
    "            i = i + 1\n",
    "        else:\n",
    "            res.append(right[j])\n",
    "            j = j + 1\n",
    "    while i < m:\n",
    "        res.append(left[i])\n",
    "        i = i + 1\n",
    "    while j < n:\n",
    "        res.append(right[j])\n",
    "        j = j + 1\n",
    "    return res\n",
    "mergey([10,15,20,40,8,11,55],0,3,6)"
   ]
  },
  {
   "cell_type": "code",
   "execution_count": 11,
   "id": "f59e82ce-7743-452a-a278-dc5597629e76",
   "metadata": {},
   "outputs": [
    {
     "data": {
      "text/plain": [
       "[8, 10, 11, 15, 20, 40, 55]"
      ]
     },
     "execution_count": 11,
     "metadata": {},
     "output_type": "execute_result"
    }
   ],
   "source": [
    "# GEEKS CODE\n",
    "def merge(a,low,mid,high):\n",
    "    left = a[low : mid+1]\n",
    "    right = a[mid+1 : high+1]\n",
    "    i = 0\n",
    "    j = 0\n",
    "    k = low\n",
    "    while i < len(left) and j < len(right):\n",
    "        if left[i] <= right[j]:\n",
    "            a[k] = left[i]\n",
    "            k = k + 1\n",
    "            i = i + 1\n",
    "        else:\n",
    "            a[k] = right[j]\n",
    "            k = k + 1\n",
    "            j = j + 1\n",
    "    while i < len(left):\n",
    "        a[k] = left[i]\n",
    "        i = i + 1\n",
    "        k = k + 1\n",
    "    while j < len(right):\n",
    "        a[k] = right[j]\n",
    "        j = j + 1\n",
    "        k = k + 1\n",
    "    return a\n",
    "merge([10,15,20,40,8,11,55],0,3,6)"
   ]
  },
  {
   "cell_type": "code",
   "execution_count": null,
   "id": "8a673f91-1d03-4412-b7d1-7702577fa0ef",
   "metadata": {},
   "outputs": [],
   "source": []
  }
 ],
 "metadata": {
  "kernelspec": {
   "display_name": "Python 3 (ipykernel)",
   "language": "python",
   "name": "python3"
  },
  "language_info": {
   "codemirror_mode": {
    "name": "ipython",
    "version": 3
   },
   "file_extension": ".py",
   "mimetype": "text/x-python",
   "name": "python",
   "nbconvert_exporter": "python",
   "pygments_lexer": "ipython3",
   "version": "3.11.7"
  }
 },
 "nbformat": 4,
 "nbformat_minor": 5
}
