{
 "cells": [
  {
   "cell_type": "markdown",
   "id": "2b3f8b7d-7282-4908-82d3-42f2c109b05e",
   "metadata": {},
   "source": [
    "# Left side Triangle"
   ]
  },
  {
   "cell_type": "code",
   "execution_count": 27,
   "id": "999ca22f-8a56-47b6-8b2c-56e4066475cb",
   "metadata": {},
   "outputs": [
    {
     "name": "stdin",
     "output_type": "stream",
     "text": [
      " 5\n"
     ]
    },
    {
     "name": "stdout",
     "output_type": "stream",
     "text": [
      "0 \n",
      "1 1 \n",
      "2 2 2 \n",
      "3 3 3 3 \n",
      "4 4 4 4 4 \n"
     ]
    }
   ],
   "source": [
    "n = int(input())\n",
    "for i in range(0,n):\n",
    "    for j in range(0,i+1):\n",
    "        print(i, end=\" \")\n",
    "    print()"
   ]
  },
  {
   "cell_type": "code",
   "execution_count": 30,
   "id": "71e25473-fedb-4dd3-93cc-92df4317f4e3",
   "metadata": {},
   "outputs": [
    {
     "name": "stdin",
     "output_type": "stream",
     "text": [
      " 5\n"
     ]
    },
    {
     "name": "stdout",
     "output_type": "stream",
     "text": [
      "*\n",
      "**\n",
      "***\n",
      "****\n",
      "*****\n"
     ]
    }
   ],
   "source": [
    "n = int(input())\n",
    "for i in range(0,n):\n",
    "    for j in range(0,i+1):\n",
    "        print(\"*\", end=\"\")\n",
    "    print()"
   ]
  },
  {
   "cell_type": "code",
   "execution_count": 32,
   "id": "d5117798-57dd-46ea-8d7c-83ee2d07dba3",
   "metadata": {},
   "outputs": [
    {
     "name": "stdin",
     "output_type": "stream",
     "text": [
      " 5\n"
     ]
    },
    {
     "name": "stdout",
     "output_type": "stream",
     "text": [
      "\n",
      "11\n",
      "\n",
      "3333\n",
      "\n"
     ]
    }
   ],
   "source": [
    "# ODD LEFT SIDE TRIANGLE\n",
    "n = int(input())\n",
    "for i in range(0,n):\n",
    "    for j in range(0,i+1):\n",
    "        if (i%2 != 0):\n",
    "            print(i, end=\"\")\n",
    "    print()"
   ]
  },
  {
   "cell_type": "code",
   "execution_count": 34,
   "id": "35a9ece7-8b2f-4269-9d0d-af8b42f1bb6b",
   "metadata": {},
   "outputs": [
    {
     "name": "stdin",
     "output_type": "stream",
     "text": [
      " 5\n"
     ]
    },
    {
     "name": "stdout",
     "output_type": "stream",
     "text": [
      "0\n",
      "\n",
      "222\n",
      "\n",
      "44444\n"
     ]
    }
   ],
   "source": [
    "# EVEN LEFT SIDE TRIANGLE\n",
    "n = int(input())\n",
    "for i in range(0,n):\n",
    "    for j in range(0,i+1):\n",
    "        if (i%2 == 0):\n",
    "            print(i, end=\"\")\n",
    "    print()"
   ]
  },
  {
   "cell_type": "code",
   "execution_count": null,
   "id": "8579ed93-bc74-4733-b6c4-2ffc2ab3168a",
   "metadata": {},
   "outputs": [],
   "source": []
  }
 ],
 "metadata": {
  "kernelspec": {
   "display_name": "Python 3 (ipykernel)",
   "language": "python",
   "name": "python3"
  },
  "language_info": {
   "codemirror_mode": {
    "name": "ipython",
    "version": 3
   },
   "file_extension": ".py",
   "mimetype": "text/x-python",
   "name": "python",
   "nbconvert_exporter": "python",
   "pygments_lexer": "ipython3",
   "version": "3.11.7"
  }
 },
 "nbformat": 4,
 "nbformat_minor": 5
}
