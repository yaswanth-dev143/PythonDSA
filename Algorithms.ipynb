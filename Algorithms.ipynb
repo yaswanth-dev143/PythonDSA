{
 "cells": [
  {
   "cell_type": "code",
   "execution_count": 1,
   "id": "e271c128",
   "metadata": {},
   "outputs": [
    {
     "name": "stdout",
     "output_type": "stream",
     "text": [
      "Sorted array: [3, 9, 10, 27, 38, 43, 82]\n"
     ]
    }
   ],
   "source": [
    "def merge_sort(arr):\n",
    "    if len(arr) > 1:\n",
    "        mid = len(arr) // 2  # Finding the middle of the array\n",
    "        left_half = arr[:mid]  # Dividing the array into two halves\n",
    "        right_half = arr[mid:]\n",
    "\n",
    "        merge_sort(left_half)  # Sorting the first half\n",
    "        merge_sort(right_half)  # Sorting the second half\n",
    "\n",
    "        # Merging the sorted halves\n",
    "        i = j = k = 0  # Initialize indices for left_half, right_half, and arr\n",
    "        while i < len(left_half) and j < len(right_half):\n",
    "            if left_half[i] < right_half[j]:\n",
    "                arr[k] = left_half[i]\n",
    "                i += 1\n",
    "            else:\n",
    "                arr[k] = right_half[j]\n",
    "                j += 1\n",
    "            k += 1\n",
    "\n",
    "        # Checking for remaining elements in left_half and right_half\n",
    "        while i < len(left_half):\n",
    "            arr[k] = left_half[i]\n",
    "            i += 1\n",
    "            k += 1\n",
    "        while j < len(right_half):\n",
    "            arr[k] = right_half[j]\n",
    "            j += 1\n",
    "            k += 1\n",
    "\n",
    "# Example usage:\n",
    "arr = [38, 27, 43, 3, 9, 82, 10]\n",
    "merge_sort(arr)\n",
    "print(\"Sorted array:\", arr)\n"
   ]
  },
  {
   "cell_type": "code",
   "execution_count": 12,
   "id": "99253ad2",
   "metadata": {},
   "outputs": [
    {
     "data": {
      "text/plain": [
       "345"
      ]
     },
     "execution_count": 12,
     "metadata": {},
     "output_type": "execute_result"
    }
   ],
   "source": [
    "#brute force method\n",
    "\n",
    "def large_num(arr):\n",
    "    larg_num = arr[0]\n",
    "    for num in arr:\n",
    "        if num > larg_num:\n",
    "            larg_num = num\n",
    "    return larg_num\n",
    "\n",
    "list = [1,2,64,5,89,345]\n",
    "large_num(list)"
   ]
  },
  {
   "cell_type": "code",
   "execution_count": null,
   "id": "5c62d265",
   "metadata": {},
   "outputs": [],
   "source": []
  }
 ],
 "metadata": {
  "kernelspec": {
   "display_name": "Python 3 (ipykernel)",
   "language": "python",
   "name": "python3"
  },
  "language_info": {
   "codemirror_mode": {
    "name": "ipython",
    "version": 3
   },
   "file_extension": ".py",
   "mimetype": "text/x-python",
   "name": "python",
   "nbconvert_exporter": "python",
   "pygments_lexer": "ipython3",
   "version": "3.11.4"
  }
 },
 "nbformat": 4,
 "nbformat_minor": 5
}
