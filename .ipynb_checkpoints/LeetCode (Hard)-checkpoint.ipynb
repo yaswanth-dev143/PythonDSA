{
 "cells": [
  {
   "cell_type": "code",
   "execution_count": 3,
   "id": "c25b3b0f-e61c-48f2-b7d5-6cbf01193d5f",
   "metadata": {},
   "outputs": [
    {
     "data": {
      "text/plain": [
       "2.5"
      ]
     },
     "execution_count": 3,
     "metadata": {},
     "output_type": "execute_result"
    }
   ],
   "source": [
    "# 4. Median of Two Sorted Arrays\n",
    "def medianofsortedarr(num1 , num2):\n",
    "    num = nums1 + nums2\n",
    "    num.sort()\n",
    "    res = num[0] + num[len(num)-1]\n",
    "    return (float(res)) / 2\n",
    "\n",
    "nums1 = [1,2]\n",
    "nums2 = [3,4]\n",
    "medianofsortedarr(nums1,nums2)"
   ]
  },
  {
   "cell_type": "code",
   "execution_count": null,
   "id": "516c072e-5f5f-4b80-945f-4fd5cb1df0a2",
   "metadata": {},
   "outputs": [],
   "source": []
  }
 ],
 "metadata": {
  "kernelspec": {
   "display_name": "Python 3 (ipykernel)",
   "language": "python",
   "name": "python3"
  },
  "language_info": {
   "codemirror_mode": {
    "name": "ipython",
    "version": 3
   },
   "file_extension": ".py",
   "mimetype": "text/x-python",
   "name": "python",
   "nbconvert_exporter": "python",
   "pygments_lexer": "ipython3",
   "version": "3.11.7"
  }
 },
 "nbformat": 4,
 "nbformat_minor": 5
}
