{
 "cells": [
  {
   "cell_type": "code",
   "execution_count": 42,
   "id": "e1200fbb",
   "metadata": {},
   "outputs": [
    {
     "name": "stdout",
     "output_type": "stream",
     "text": [
      "[1, 2]\n"
     ]
    }
   ],
   "source": [
    "#problem-1\n",
    "\n",
    "def find(sums,target):\n",
    "    for i in range(len(sums)):\n",
    "            for k in range(len(sums)-1):\n",
    "                if(target == sums[i] + sums[k+1] ):\n",
    "                    if i!=k+1:\n",
    "                        return [i,k+1]\n",
    "            \n",
    "sums = [2,5,5,11]\n",
    "target =  10\n",
    "print(find(sums,target))"
   ]
  },
  {
   "cell_type": "code",
   "execution_count": 43,
   "id": "e8230432",
   "metadata": {},
   "outputs": [],
   "source": [
    "#problem-2:\n",
    "\n",
    "y = str(x)\n",
    "if(y == y[::-1] ):\n",
    "    return True\n",
    "else:\n",
    "    return False"
   ]
  },
  {
   "cell_type": "code",
   "execution_count": 2,
   "id": "2ae7d52e",
   "metadata": {},
   "outputs": [
    {
     "name": "stdin",
     "output_type": "stream",
     "text": [
      " II\n"
     ]
    },
    {
     "name": "stdout",
     "output_type": "stream",
     "text": [
      "2\n"
     ]
    }
   ],
   "source": [
    "def romanToInt(s):\n",
    "        num = 0\n",
    "        roman = {'I':1, 'V':5, 'X':10, 'L':50, 'C':100, 'D':500, 'M':1000, \n",
    "                'IV':4, 'IX':9, 'XL':40, 'XC':90, 'CD':400, 'CM':900}\n",
    "        i = 0\n",
    "        while i < len(s):\n",
    "            if i + 1 < len(s) and s[i:i+2] in roman:\n",
    "                num += roman[s[i:i+2]]\n",
    "                i += 2\n",
    "            else:\n",
    "                num += roman[s[i]]\n",
    "                i += 1\n",
    "        return num"
   ]
  },
  {
   "cell_type": "code",
   "execution_count": 8,
   "id": "def2dbfc",
   "metadata": {},
   "outputs": [
    {
     "name": "stdout",
     "output_type": "stream",
     "text": [
      "ada\n"
     ]
    }
   ],
   "source": [
    "#problem-4:\n",
    "\n",
    "def fps(words):\n",
    "    for i in range(0,len(words)):\n",
    "        if(words[i] == words[i][::-1]):\n",
    "            return words[i]\n",
    "    return\"\"\n",
    "\n",
    "res = fps([\"abc\",\"car\",\"ada\",\"racecar\",\"cool\"])\n",
    "print(res)\n",
    "\n",
    "for word in words:\n",
    "    if(word == word[::-1]):\n",
    "        return word"
   ]
  },
  {
   "cell_type": "code",
   "execution_count": null,
   "id": "bb1efa6c",
   "metadata": {},
   "outputs": [],
   "source": [
    "print(\"hello this is sana. \")\n",
    "print(\"hello\")"
   ]
  },
  {
   "cell_type": "code",
   "execution_count": 23,
   "id": "ba02c396",
   "metadata": {},
   "outputs": [
    {
     "name": "stdout",
     "output_type": "stream",
     "text": [
      "20\n",
      "56\n"
     ]
    },
    {
     "data": {
      "text/plain": [
       "0"
      ]
     },
     "execution_count": 23,
     "metadata": {},
     "output_type": "execute_result"
    }
   ],
   "source": [
    "def countold(lis):\n",
    "    s = 0\n",
    "    for i in range(len(lis)):\n",
    "        if int(lis[i][11:13]) > 60:\n",
    "            s =  s + 1\n",
    "    return s\n",
    "countold([\"1313579440F2036\",\"2921522980M5644\"])"
   ]
  },
  {
   "cell_type": "code",
   "execution_count": 3,
   "id": "c9a44848",
   "metadata": {},
   "outputs": [
    {
     "data": {
      "text/plain": [
       "False"
      ]
     },
     "execution_count": 3,
     "metadata": {},
     "output_type": "execute_result"
    }
   ],
   "source": [
    "def canBeEqual(target, arr):\n",
    "        if(sorted(target) == sorted(arr)):\n",
    "            return True\n",
    "        else:\n",
    "            return False\n",
    "canBeEqual([3,7,9],[3,7,11])"
   ]
  },
  {
   "cell_type": "code",
   "execution_count": 3,
   "id": "bb23e700-a984-4a85-a930-76e7a65dfe11",
   "metadata": {},
   "outputs": [
    {
     "data": {
      "text/plain": [
       "'f'"
      ]
     },
     "execution_count": 3,
     "metadata": {},
     "output_type": "execute_result"
    }
   ],
   "source": [
    "# 14. Longest Common Prefix\n",
    "strs = [\"flower\",\"flow\",\"flight\",\"fuck\"]\n",
    "def longestCommonPrefix(strs):\n",
    "    if not strs:\n",
    "        return \"\"\n",
    "    \n",
    "    # Start with the first string as the initial prefix\n",
    "    prefix = strs[0]\n",
    "    \n",
    "    # Compare the prefix with each string in the list\n",
    "    for string in strs[1:]:\n",
    "        # Reduce the prefix until it matches the start of the current string\n",
    "        while string[:len(prefix)] != prefix:\n",
    "            prefix = prefix[:-1]\n",
    "            if not prefix:\n",
    "                return \"\"\n",
    "    \n",
    "    return prefix\n",
    "longestCommonPrefix(strs)      \n",
    "\n",
    "# solved using the standing tower\n",
    "# takes the intial strind as base compare the rest of the strings"
   ]
  },
  {
   "cell_type": "code",
   "execution_count": 63,
   "id": "546f0734-ccb4-434d-bfff-3bbd5ef54027",
   "metadata": {},
   "outputs": [
    {
     "name": "stdout",
     "output_type": "stream",
     "text": [
      "a\n",
      "s\n",
      "w\n",
      "a\n",
      "n\n",
      "t\n",
      "h\n"
     ]
    }
   ],
   "source": [
    "s = \"yaswanth\"\n",
    "for str in s[:len(s)]:\n",
    "    print(str)"
   ]
  },
  {
   "cell_type": "code",
   "execution_count": 13,
   "id": "2095b941-4a33-4f6a-9753-86a3ef6d8ee9",
   "metadata": {},
   "outputs": [
    {
     "name": "stdout",
     "output_type": "stream",
     "text": [
      "['s', 'i', 'c', 'k']\n"
     ]
    }
   ],
   "source": [
    "# find ounts\n",
    "str = \"sick\"\n",
    "def count(str):\n",
    "    res = []\n",
    "    for c in str:\n",
    "        if c not in res:\n",
    "            res.append(c)\n",
    "    print(res)\n",
    "count(str)"
   ]
  },
  {
   "cell_type": "code",
   "execution_count": 18,
   "id": "c4a3d993-225c-4271-a255-9ef61fb554bf",
   "metadata": {},
   "outputs": [
    {
     "data": {
      "text/plain": [
       "True"
      ]
     },
     "execution_count": 18,
     "metadata": {},
     "output_type": "execute_result"
    }
   ],
   "source": [
    "# balane the parathedsis\n"
   ]
  },
  {
   "cell_type": "code",
   "execution_count": 40,
   "id": "4cb41752-9b81-4398-be66-f4611b0a4aa2",
   "metadata": {},
   "outputs": [
    {
     "data": {
      "text/plain": [
       "False"
      ]
     },
     "execution_count": 40,
     "metadata": {},
     "output_type": "execute_result"
    }
   ],
   "source": [
    "# 125. Valid Palindrome\n",
    "def isPalindrome(s):\n",
    "    res_li = []\n",
    "    res = \"\"\n",
    "    for char in s:\n",
    "        if char.isalnum():\n",
    "            res_li.append(char.lower())\n",
    "    res = \"\".join(res_li)\n",
    "    return (res == res[::-1])\n",
    "s = \"race a car\"\n",
    "isPalindrome(s)"
   ]
  },
  {
   "cell_type": "code",
   "execution_count": 56,
   "id": "ed45e4bc-45e2-489e-8142-55f4b9285314",
   "metadata": {},
   "outputs": [
    {
     "ename": "NameError",
     "evalue": "name 'revese' is not defined",
     "output_type": "error",
     "traceback": [
      "\u001b[1;31m---------------------------------------------------------------------------\u001b[0m",
      "\u001b[1;31mNameError\u001b[0m                                 Traceback (most recent call last)",
      "Cell \u001b[1;32mIn[56], line 10\u001b[0m\n\u001b[0;32m      8\u001b[0m         right \u001b[38;5;241m-\u001b[39m\u001b[38;5;241m=\u001b[39m \u001b[38;5;241m1\u001b[39m\n\u001b[0;32m      9\u001b[0m     \u001b[38;5;28;01mreturn\u001b[39;00m s\n\u001b[1;32m---> 10\u001b[0m revese(s)\n",
      "\u001b[1;31mNameError\u001b[0m: name 'revese' is not defined"
     ]
    }
   ],
   "source": [
    "# 344. Reverse String\n",
    "s = [\"h\",\"e\",\"l\",\"l\",\"o\"]\n",
    "def reverse(s):\n",
    "    left , right = 0 , len(s)-1\n",
    "    while left < right:\n",
    "        s[left] , s[right] = s[right] , s[left]\n",
    "        left += 1\n",
    "        right -= 1\n",
    "    return s\n",
    "reverse(s)"
   ]
  },
  {
   "cell_type": "code",
   "execution_count": null,
   "id": "2eb17e61-b319-40c7-b5ec-e152aef7545b",
   "metadata": {},
   "outputs": [],
   "source": []
  }
 ],
 "metadata": {
  "kernelspec": {
   "display_name": "Python 3 (ipykernel)",
   "language": "python",
   "name": "python3"
  },
  "language_info": {
   "codemirror_mode": {
    "name": "ipython",
    "version": 3
   },
   "file_extension": ".py",
   "mimetype": "text/x-python",
   "name": "python",
   "nbconvert_exporter": "python",
   "pygments_lexer": "ipython3",
   "version": "3.11.7"
  }
 },
 "nbformat": 4,
 "nbformat_minor": 5
}
