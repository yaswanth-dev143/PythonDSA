{
 "cells": [
  {
   "cell_type": "code",
   "execution_count": 42,
   "id": "e1200fbb",
   "metadata": {},
   "outputs": [
    {
     "name": "stdout",
     "output_type": "stream",
     "text": [
      "[1, 2]\n"
     ]
    }
   ],
   "source": [
    "#problem-1\n",
    "\n",
    "def find(sums,target):\n",
    "    for i in range(len(sums)):\n",
    "            for k in range(len(sums)-1):\n",
    "                if(target == sums[i] + sums[k+1] ):\n",
    "                    if i!=k+1:\n",
    "                        return [i,k+1]\n",
    "            \n",
    "sums = [2,5,5,11]\n",
    "target =  10\n",
    "print(find(sums,target))"
   ]
  },
  {
   "cell_type": "code",
   "execution_count": 43,
   "id": "e8230432",
   "metadata": {},
   "outputs": [],
   "source": [
    "#problem-2:\n",
    "x = input()\n",
    "y = str(x)\n",
    "if(y == y[::-1] ):\n",
    "    return True\n",
    "else:\n",
    "    return False"
   ]
  },
  {
   "cell_type": "code",
   "execution_count": null,
   "id": "2ae7d52e",
   "metadata": {},
   "outputs": [],
   "source": [
    "#problem -3:\n",
    "\n",
    "s = input()\n",
    "num = 0\n",
    "roman = {'I':1,'V':5,'X':10,'L':50,'C':100,'D':500,'M':1000,'IV':4,'IX':9,'XL':40,'XC':90,'CD':400,'CM':900}\n",
    "for i in range(len(s)):\n",
    "    if(i+1<len(s) and s[i:i+2] in roman ):\n",
    "        num+=roman[s[i:i+2]]\n",
    "        print(num)\n",
    "    else:\n",
    "        num+=roman[s[i]]\n",
    "print(num)"
   ]
  },
  {
   "cell_type": "code",
   "execution_count": 7,
   "id": "def2dbfc",
   "metadata": {},
   "outputs": [
    {
     "name": "stdout",
     "output_type": "stream",
     "text": [
      "cba\n",
      "cba\n",
      "cba\n",
      "cba\n",
      "cba\n",
      "None\n"
     ]
    }
   ],
   "source": [
    "#problem-4:\n",
    "\n",
    "def fps(words):\n",
    "    n = len(words)\n",
    "    for i in range(0,n):\n",
    "        if(words[i] == words[i][::-1]):\n",
    "            return words[i]\n",
    "        else:\n",
    "            return\" \"\n",
    "\n",
    "res = fps([\"abc\",\"car\",\"ada\",\"racecar\",\"cool\"])\n",
    "print(res)\n",
    "\n"
   ]
  },
  {
   "cell_type": "code",
   "execution_count": null,
   "id": "239356da",
   "metadata": {},
   "outputs": [],
   "source": []
  }
 ],
 "metadata": {
  "kernelspec": {
   "display_name": "Python 3 (ipykernel)",
   "language": "python",
   "name": "python3"
  },
  "language_info": {
   "codemirror_mode": {
    "name": "ipython",
    "version": 3
   },
   "file_extension": ".py",
   "mimetype": "text/x-python",
   "name": "python",
   "nbconvert_exporter": "python",
   "pygments_lexer": "ipython3",
   "version": "3.11.4"
  }
 },
 "nbformat": 4,
 "nbformat_minor": 5
}
