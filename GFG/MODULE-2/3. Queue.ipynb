{
 "cells": [
  {
   "cell_type": "markdown",
   "id": "7be5ab2c-f6ff-470d-889e-113767744f30",
   "metadata": {},
   "source": [
    "# 03. QUEUE IN PYTHION"
   ]
  },
  {
   "cell_type": "code",
   "execution_count": 5,
   "id": "457c9ee7-d5c5-4b6d-a9a3-020c942fe4dd",
   "metadata": {},
   "outputs": [
    {
     "name": "stdout",
     "output_type": "stream",
     "text": [
      "[10, 20, 30]\n",
      "10\n",
      "20\n",
      "30\n",
      "40\n"
     ]
    }
   ],
   "source": [
    "# USING THE LIST IN PYTHON\n",
    "q = []\n",
    "q.append(10)\n",
    "q.append(20)\n",
    "q.append(30)\n",
    "print(q)\n",
    "print(q.pop(0))\n",
    "q.append(40)\n",
    "print(q.pop(0))\n",
    "print(q[0])\n",
    "print(q[-1])"
   ]
  },
  {
   "cell_type": "code",
   "execution_count": 13,
   "id": "3a5d0da3-498c-42f4-8858-747c872b5758",
   "metadata": {},
   "outputs": [
    {
     "name": "stdout",
     "output_type": "stream",
     "text": [
      "deque([10, 20, 30])\n",
      "10\n",
      "20\n",
      "2\n",
      "30\n",
      "40\n"
     ]
    }
   ],
   "source": [
    "# USING THE COLLECTIONS.DEQUE\n",
    "from collections import deque\n",
    "q = deque()\n",
    "q.append(10)\n",
    "q.append(20)\n",
    "q.append(30)\n",
    "print(q)\n",
    "print(q.popleft())\n",
    "q.append(40)\n",
    "print(q.popleft())\n",
    "print(len(q))\n",
    "print(q[0])\n",
    "print(q[-1])"
   ]
  },
  {
   "cell_type": "markdown",
   "id": "a651726c-3a21-421f-a756-b2a7ad0b015c",
   "metadata": {},
   "source": [
    "# 04. LINKED LIST IMPLEMENATATION OF QUEUE"
   ]
  },
  {
   "cell_type": "code",
   "execution_count": 28,
   "id": "b7e9319b-40c0-44ba-ba5b-c97cb9c8a3ad",
   "metadata": {},
   "outputs": [
    {
     "name": "stdout",
     "output_type": "stream",
     "text": [
      "3\n",
      "False\n",
      "10\n",
      "10\n"
     ]
    }
   ],
   "source": [
    "class Node:\n",
    "    def __init__(self,data):\n",
    "        self.data = data\n",
    "        self.next = None\n",
    "class MyQueue:\n",
    "    \n",
    "    def __init__(self):\n",
    "        self.front = None\n",
    "        self.rear = None\n",
    "        self.sz = 0\n",
    "        \n",
    "    def size(self):\n",
    "        return self.sz\n",
    "        \n",
    "    def getFront(self):\n",
    "        return self.front.data\n",
    "        \n",
    "    def getRear(self):\n",
    "        return self.rear.data\n",
    "        \n",
    "    def isEmpty(self):\n",
    "        return (self.sz == 0)\n",
    "        \n",
    "    def Enqueue(self,x):\n",
    "        temp = Node(x)\n",
    "        if self.front == None:\n",
    "            self.front = temp\n",
    "        else:\n",
    "            self.rear.next = temp\n",
    "        self.rear = temp\n",
    "        self.sz += 1\n",
    "        \n",
    "    def dequeue(self):\n",
    "        if self.front == None:\n",
    "            return None\n",
    "        else:\n",
    "            res = self.front.data\n",
    "            self.front = self.front.next\n",
    "            if self.front == None:\n",
    "                self.rear = None\n",
    "            self.sz -= 1\n",
    "            return res\n",
    "            \n",
    "q= MyQueue()\n",
    "q.Enqueue(10)\n",
    "q.Enqueue(20)\n",
    "q.Enqueue(30)\n",
    "print(q.size())\n",
    "print(q.isEmpty())\n",
    "print(q.getFront())\n",
    "print(q.dequeue())"
   ]
  },
  {
   "cell_type": "code",
   "execution_count": null,
   "id": "3ae6d687-73b3-4d52-8783-58846fb175a4",
   "metadata": {},
   "outputs": [],
   "source": []
  }
 ],
 "metadata": {
  "kernelspec": {
   "display_name": "Python 3 (ipykernel)",
   "language": "python",
   "name": "python3"
  },
  "language_info": {
   "codemirror_mode": {
    "name": "ipython",
    "version": 3
   },
   "file_extension": ".py",
   "mimetype": "text/x-python",
   "name": "python",
   "nbconvert_exporter": "python",
   "pygments_lexer": "ipython3",
   "version": "3.11.7"
  }
 },
 "nbformat": 4,
 "nbformat_minor": 5
}
