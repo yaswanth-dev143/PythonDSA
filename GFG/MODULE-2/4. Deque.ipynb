{
 "cells": [
  {
   "cell_type": "markdown",
   "id": "e2841d42-f3c2-4ac6-9024-badb7781739c",
   "metadata": {},
   "source": [
    "# 3. Deque in python"
   ]
  },
  {
   "cell_type": "code",
   "execution_count": 6,
   "id": "760e7ea9-44d9-44d2-a72f-9614feb950f9",
   "metadata": {},
   "outputs": [
    {
     "name": "stdout",
     "output_type": "stream",
     "text": [
      "deque([40, 10, 20, 30])\n",
      "30\n",
      "40\n",
      "deque([10, 20])\n"
     ]
    }
   ],
   "source": [
    "from collections import deque\n",
    "d = deque()\n",
    "d.append(10)\n",
    "d.append(20)\n",
    "d.append(30)\n",
    "d.appendleft(40)\n",
    "print(d)\n",
    "print(d.pop())\n",
    "print(d.popleft())\n",
    "print(d)"
   ]
  },
  {
   "cell_type": "code",
   "execution_count": 10,
   "id": "f875d6d9-e22d-41ea-89ea-34480dc5d5ee",
   "metadata": {},
   "outputs": [
    {
     "name": "stdout",
     "output_type": "stream",
     "text": [
      "2\n",
      "deque([20, 10, 30, 40])\n",
      "deque([20, 10, 30, 40, 50, 60])\n",
      "deque([25, 15, 20, 10, 30, 40, 50, 60])\n"
     ]
    }
   ],
   "source": [
    "from collections import deque\n",
    "d = deque([10,20,30,40])\n",
    "d.insert(2,10)\n",
    "print(d.count(10))\n",
    "d.remove(10)\n",
    "print(d)\n",
    "d.extend([50,60])\n",
    "print(d)\n",
    "d.extendleft([15,25])\n",
    "print(d)"
   ]
  },
  {
   "cell_type": "code",
   "execution_count": 3,
   "id": "291a35b0-a3a1-4bd5-aa79-0530af170e31",
   "metadata": {},
   "outputs": [
    {
     "name": "stdout",
     "output_type": "stream",
     "text": [
      "30\n",
      "deque([10, 20, 100, 40, 50])\n",
      "10\n",
      "50\n"
     ]
    }
   ],
   "source": [
    "from collections import deque\n",
    "d = deque([10,20,30,40,50])\n",
    "print(d[2])\n",
    "d[2] = 100\n",
    "print(d)\n",
    "print(d[0])\n",
    "print(d[-1])"
   ]
  },
  {
   "cell_type": "markdown",
   "id": "bf48a6e6-72cd-449d-9793-262987d9101c",
   "metadata": {},
   "source": [
    "# 4. DESIGN A DATA STRUCTURE WITH MIN-MAX OPERATIONS"
   ]
  },
  {
   "cell_type": "code",
   "execution_count": 4,
   "id": "f85fcf01-a5f8-41ae-b3a8-93de43a6316c",
   "metadata": {},
   "outputs": [],
   "source": [
    "from collections import deque\n",
    "class MyDS:\n",
    "    def __init__(self):\n",
    "        self.dq = deque()\n",
    "    def insertMin(self,x):\n",
    "        self.dq.appendleft(x)\n",
    "    def insertMax(self,x):\n",
    "        self.dq.append(x)\n",
    "    def extractMin(self):\n",
    "        return self.dq.popleft()\n",
    "    def extractMax(self):\n",
    "        return self.dq.pop()\n",
    "    def getMin():\n",
    "        return self.dq[0]\n",
    "    def getMax(self):\n",
    "        return self.dq[-1]"
   ]
  },
  {
   "cell_type": "code",
   "execution_count": null,
   "id": "cd7745e8-bcdf-4da5-83dc-9f0f3870d658",
   "metadata": {},
   "outputs": [],
   "source": [
    " "
   ]
  }
 ],
 "metadata": {
  "kernelspec": {
   "display_name": "Python 3 (ipykernel)",
   "language": "python",
   "name": "python3"
  },
  "language_info": {
   "codemirror_mode": {
    "name": "ipython",
    "version": 3
   },
   "file_extension": ".py",
   "mimetype": "text/x-python",
   "name": "python",
   "nbconvert_exporter": "python",
   "pygments_lexer": "ipython3",
   "version": "3.11.7"
  }
 },
 "nbformat": 4,
 "nbformat_minor": 5
}
