{
 "cells": [
  {
   "cell_type": "markdown",
   "id": "2a2c6129-bcf7-47f0-87e9-3275c9b35330",
   "metadata": {},
   "source": [
    "# 3.STACK IN PYTHON"
   ]
  },
  {
   "cell_type": "code",
   "execution_count": 7,
   "id": "c95aa053-d2a2-4467-8164-56c8984ba718",
   "metadata": {},
   "outputs": [
    {
     "name": "stdout",
     "output_type": "stream",
     "text": [
      "[10, 20, 30]\n",
      "[10, 20]\n",
      "20\n",
      "2\n"
     ]
    }
   ],
   "source": [
    "# using arrayd\n",
    "stack = []\n",
    "stack.append(10)\n",
    "stack.append(20)\n",
    "stack.append(30)\n",
    "print(stack)\n",
    "stack.pop()\n",
    "print(stack)\n",
    "top = stack[-1]\n",
    "print(top)\n",
    "size = len(stack)\n",
    "print(size)"
   ]
  },
  {
   "cell_type": "code",
   "execution_count": 11,
   "id": "d9997270-3675-4217-954b-61471cef5411",
   "metadata": {},
   "outputs": [
    {
     "name": "stdout",
     "output_type": "stream",
     "text": [
      "deque([10, 20, 30])\n",
      "deque([10, 20])\n",
      "20\n",
      "2\n"
     ]
    }
   ],
   "source": [
    "# using collection.deque\n",
    "from collections import deque\n",
    "stack = deque()\n",
    "stack.append(10)\n",
    "stack.append(20)\n",
    "stack.append(30)\n",
    "print(stack)\n",
    "stack.pop()\n",
    "print(stack)\n",
    "top = stack[-1]\n",
    "print(top)\n",
    "size = len(stack)\n",
    "print(size)"
   ]
  },
  {
   "cell_type": "markdown",
   "id": "10ee81db-2029-4b86-82e5-5f611cb28095",
   "metadata": {},
   "source": [
    "# 4. LINKED LIST IMPLEMENTATION OF STACK (OWN IMPLEMENTATION)"
   ]
  },
  {
   "cell_type": "code",
   "execution_count": 1,
   "id": "cf49db00-3edf-49ba-af26-b5831489cc10",
   "metadata": {},
   "outputs": [
    {
     "name": "stdout",
     "output_type": "stream",
     "text": [
      "False\n"
     ]
    }
   ],
   "source": [
    "class Node:\n",
    "    def __init__(self,d):\n",
    "        self.data = d\n",
    "        self.next = None\n",
    "        \n",
    "class MyStack:\n",
    "    def __init__(self):\n",
    "        self.head = None\n",
    "        self.sz = 0\n",
    "        \n",
    "    def push(self,x):\n",
    "        temp = Node(x)\n",
    "        temp.next = self.head\n",
    "        self.head = temp\n",
    "        self.sz += 1\n",
    "        \n",
    "    def size(self):\n",
    "        return self.sz\n",
    "        \n",
    "    def peek(self):\n",
    "        if self.head == None:\n",
    "            return \"Empty\"\n",
    "        return self.head.data\n",
    "        \n",
    "    def pop(self):\n",
    "        if self.head == None:\n",
    "            return \"Empty\"\n",
    "        res = self.head.data\n",
    "        self.head = self.head.next\n",
    "        self.sz -= 1\n",
    "        return res\n",
    "        \n",
    "    def isEmpty(self):\n",
    "        if self.head == None:\n",
    "            return True \n",
    "        else:\n",
    "            return False\n",
    "        \n",
    "        \n",
    "s = MyStack()\n",
    "s.push(10)\n",
    "s.push(20)\n",
    "s.pop()\n",
    "print(s.isEmpty())"
   ]
  },
  {
   "cell_type": "markdown",
   "id": "b47df3de-3177-4e27-abb3-6e49c6a438ab",
   "metadata": {},
   "source": [
    "# 05. CHECKING FOR BALANCED PARANTHESIS"
   ]
  },
  {
   "cell_type": "code",
   "execution_count": 7,
   "id": "4bf38b8a-172d-4684-bb7a-08a3a8a0982d",
   "metadata": {},
   "outputs": [
    {
     "data": {
      "text/plain": [
       "True"
      ]
     },
     "execution_count": 7,
     "metadata": {},
     "output_type": "execute_result"
    }
   ],
   "source": [
    "def isMatching(a,b):\n",
    "    if a == '{' and b == '}' or a == '[' and b == ']'or a == '(' and b == ')':\n",
    "        return True\n",
    "    else:\n",
    "        return False\n",
    "        \n",
    "def isBalanced(expr):\n",
    "    stack = []\n",
    "    for x in expr:\n",
    "        if x in ('[','{','('):\n",
    "            stack.append(x)\n",
    "        else:\n",
    "            if not stack:\n",
    "                return False\n",
    "            elif isMatching(stack[-1],x) == False:\n",
    "                return False\n",
    "            else:\n",
    "                stack.pop()\n",
    "    if stack:\n",
    "        return False\n",
    "    else:\n",
    "       return True\n",
    "\n",
    "isBalanced(\"[][][][][]\")"
   ]
  },
  {
   "cell_type": "code",
   "execution_count": null,
   "id": "6efe39f0-865c-4304-9c64-c41975d02b35",
   "metadata": {},
   "outputs": [],
   "source": []
  }
 ],
 "metadata": {
  "kernelspec": {
   "display_name": "Python 3 (ipykernel)",
   "language": "python",
   "name": "python3"
  },
  "language_info": {
   "codemirror_mode": {
    "name": "ipython",
    "version": 3
   },
   "file_extension": ".py",
   "mimetype": "text/x-python",
   "name": "python",
   "nbconvert_exporter": "python",
   "pygments_lexer": "ipython3",
   "version": "3.11.7"
  }
 },
 "nbformat": 4,
 "nbformat_minor": 5
}
