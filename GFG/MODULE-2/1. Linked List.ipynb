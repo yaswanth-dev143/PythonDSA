{
 "cells": [
  {
   "cell_type": "markdown",
   "id": "81639773-cc9a-4548-9dfe-48a00defdd3d",
   "metadata": {},
   "source": [
    "# 1.Linked List Intrduction"
   ]
  },
  {
   "cell_type": "markdown",
   "id": "4ba8c4ff-e96f-47a8-a0b2-1368b2167cf7",
   "metadata": {},
   "source": [
    "The idea is to drop the contigious memeory requirement, \n",
    "so that insert/delete can happen faster"
   ]
  },
  {
   "cell_type": "markdown",
   "id": "f8693fe7-a283-468d-858e-57073c2695af",
   "metadata": {},
   "source": [
    "# 2. SIMPLE LINKED LIST IMPLEMENTATION"
   ]
  },
  {
   "cell_type": "code",
   "execution_count": 2,
   "id": "543457a3-ca7f-442d-8339-07bc34a563cf",
   "metadata": {},
   "outputs": [],
   "source": [
    "class Node:\n",
    "    def __init__(Self,k):\n",
    "        Self.key = k\n",
    "        Self.next = None"
   ]
  },
  {
   "cell_type": "markdown",
   "id": "cc33871c-62c3-4e61-bb19-997def54baef",
   "metadata": {},
   "source": [
    "# 4. TRAVERSING A LINKED LIST"
   ]
  },
  {
   "cell_type": "code",
   "execution_count": 3,
   "id": "969844ab-0958-4dd2-b08d-5e4b97113e8b",
   "metadata": {},
   "outputs": [
    {
     "name": "stdout",
     "output_type": "stream",
     "text": [
      "10 -> 20 -> 15 -> 30 -> "
     ]
    }
   ],
   "source": [
    "def printList(head):\n",
    "    current = head\n",
    "    while current != None:\n",
    "        print(current.key, end=\" -> \")\n",
    "        current = current.next\n",
    "        \n",
    "head = Node(10)\n",
    "head.next = Node(20)\n",
    "head.next.next = Node(15)\n",
    "head.next.next.next = Node(30)\n",
    "printList(head)        "
   ]
  },
  {
   "cell_type": "markdown",
   "id": "5b2ce906-631a-4112-86fd-885af5719d3b",
   "metadata": {},
   "source": [
    "# 5.Search in Linked List"
   ]
  },
  {
   "cell_type": "code",
   "execution_count": 5,
   "id": "d3807df3-d32a-4551-88bc-2c6e25e0e80c",
   "metadata": {},
   "outputs": [
    {
     "name": "stdout",
     "output_type": "stream",
     "text": [
      "10 -> 5 -> 20 -> 15 -> "
     ]
    },
    {
     "data": {
      "text/plain": [
       "3"
      ]
     },
     "execution_count": 5,
     "metadata": {},
     "output_type": "execute_result"
    }
   ],
   "source": [
    "def searchList(head,target):\n",
    "    i = 1\n",
    "    while head:\n",
    "        if head.key == target:\n",
    "            return i\n",
    "        i = i + 1\n",
    "        head = head.next\n",
    "    return \"Not Found\"\n",
    "        \n",
    "head = Node(10)\n",
    "head.next = Node(5)\n",
    "head.next.next = Node(20)\n",
    "head.next.next.next = Node(15)\n",
    "printList(head)\n",
    "searchList(head,20)"
   ]
  },
  {
   "cell_type": "markdown",
   "id": "860c286d-ab62-4b49-8bb7-1920962b4a88",
   "metadata": {},
   "source": [
    "# 06. INSERT AT THE BEGINING OF LINKED LIST"
   ]
  },
  {
   "cell_type": "code",
   "execution_count": 7,
   "id": "d003a953-3e08-4c50-9b68-0d737f17c683",
   "metadata": {},
   "outputs": [
    {
     "name": "stdout",
     "output_type": "stream",
     "text": [
      "25 -> 5 -> 25 -> 5 -> 10 -> 5 -> 20 -> 15 -> "
     ]
    }
   ],
   "source": [
    "## INSERT AT THE BEGINNING\n",
    "def insertAtBeg(head,key):\n",
    "    temp = Node(key)\n",
    "    temp.next = head\n",
    "    return temp\n",
    "    \n",
    "head = insertAtBeg(head,5)\n",
    "head = insertAtBeg(head,25)\n",
    "printList(head)"
   ]
  },
  {
   "cell_type": "markdown",
   "id": "4235c632-df89-4b43-bbba-51e957da63d2",
   "metadata": {},
   "source": [
    "# 07. INSERT AT THE END OF LINKED LIST"
   ]
  },
  {
   "cell_type": "code",
   "execution_count": 8,
   "id": "768e7ae4-c26a-44c3-9d6e-4074383bf0e0",
   "metadata": {},
   "outputs": [
    {
     "name": "stdout",
     "output_type": "stream",
     "text": [
      "10 -> 20 -> 30 -> 50 -> "
     ]
    }
   ],
   "source": [
    "# INSERT AT THE END\n",
    "def insertAtEnd(head,key):\n",
    "    if head == None:\n",
    "        return Node(key)\n",
    "    else:\n",
    "        current = head\n",
    "        while current.next != None:\n",
    "            current = current.next\n",
    "        current.next = Node(key)\n",
    "        return head\n",
    "\n",
    "head = Node(10)\n",
    "head.next = Node(20)\n",
    "head.next.next = Node(30)\n",
    "head = insertAtEnd(head,50)\n",
    "printList(head)"
   ]
  },
  {
   "cell_type": "markdown",
   "id": "c65bb8a9-85c7-4f11-a37a-3f336ce24ae2",
   "metadata": {},
   "source": [
    "# 08. INSERT AT GIVEN POSITION IN SINGLY LINKED LIST"
   ]
  },
  {
   "cell_type": "code",
   "execution_count": 11,
   "id": "afc79c19-dfe5-48d3-9d88-aef3b88e993e",
   "metadata": {},
   "outputs": [
    {
     "name": "stdout",
     "output_type": "stream",
     "text": [
      "100 -> 10 -> 500 -> 20 -> 30 -> 200 -> "
     ]
    }
   ],
   "source": [
    "class Node:\n",
    "    def __init__(self,key):\n",
    "        self.key = key\n",
    "        self.next = None\n",
    "\n",
    "head = Node(10)\n",
    "head.next = Node(20)\n",
    "head.next.next = Node(30)\n",
    "\n",
    "def showList(head):\n",
    "    current = head\n",
    "    while current:\n",
    "        print(current.key , end=\" -> \")\n",
    "        current = current.next\n",
    "\n",
    "def insertAtBeg(head,key):\n",
    "    temp = Node(key)\n",
    "    temp.next = head\n",
    "    return temp\n",
    "\n",
    "def insertAtEnd(head,key):\n",
    "    if head == None:\n",
    "        Node(key)\n",
    "    else:\n",
    "        current = head\n",
    "        while current.next != None:\n",
    "            current = current.next\n",
    "        current.next = Node(key)\n",
    "        return head\n",
    "        \n",
    "# INSERT AT THE GIVEN POS\n",
    "def insertAtGivenPos(head,key,pos):\n",
    "    temp = Node(key)\n",
    "    if pos == 1:\n",
    "        temp.next = head\n",
    "        return temp\n",
    "    current = head\n",
    "    for i in range(pos-2):\n",
    "        current = current.next\n",
    "        if current == None:\n",
    "            return head\n",
    "    temp.next = current.next\n",
    "    current.next = temp\n",
    "    return head\n",
    "            \n",
    "    \n",
    "head = insertAtBeg(head, 100)\n",
    "head = insertAtEnd(head,200)\n",
    "head = insertAtGivenPos(head,500,3)\n",
    "showList(head)"
   ]
  },
  {
   "cell_type": "markdown",
   "id": "472e3d48-9847-4d82-9bc6-3a0ebd291198",
   "metadata": {},
   "source": [
    "# 09. DELETE THE FIRST NODE OF LINKED LIST"
   ]
  },
  {
   "cell_type": "code",
   "execution_count": 4,
   "id": "43a9271d-7f70-40ce-90c3-1fbaa8159200",
   "metadata": {},
   "outputs": [
    {
     "name": "stdout",
     "output_type": "stream",
     "text": [
      "\n",
      "20 -> 30 -> "
     ]
    }
   ],
   "source": [
    "class Node:\n",
    "    def __init__(self,key):\n",
    "        self.key = key\n",
    "        self.next = None\n",
    "\n",
    "def showList(head):\n",
    "    current = head\n",
    "    print()\n",
    "    while current:\n",
    "        print(current.key , end=\" -> \")\n",
    "        current = current.next\n",
    "\n",
    "def delFirst(head):\n",
    "    if head is None:\n",
    "        return None\n",
    "    else:\n",
    "        return head.next\n",
    "\n",
    "\n",
    "head = Node(10)\n",
    "head.next = Node(20)\n",
    "head.next.next = Node(30)\n",
    "head = delFirst(head)\n",
    "showList(head)"
   ]
  },
  {
   "cell_type": "markdown",
   "id": "f2ac7ce1-f53c-497e-b8e1-9e95aa9f1385",
   "metadata": {},
   "source": [
    "# 10.DELETE THE LAST NODE OF LINKED LIST"
   ]
  },
  {
   "cell_type": "code",
   "execution_count": 5,
   "id": "a5fb8c16-cc46-487a-b56d-85b8fe6c41a7",
   "metadata": {},
   "outputs": [
    {
     "name": "stdout",
     "output_type": "stream",
     "text": [
      "\n",
      "10 -> 20 -> 30 -> \n",
      "10 -> 20 -> "
     ]
    }
   ],
   "source": [
    "class Node:\n",
    "    def __init__(self,key):\n",
    "        self.key = key\n",
    "        self.next = None\n",
    "        \n",
    "def delLast(head):\n",
    "    if head is None:\n",
    "        return None\n",
    "    if head.next == None:\n",
    "        return None\n",
    "    current = head\n",
    "    while current.next.next != None:\n",
    "        current = current.next\n",
    "    current.next = None\n",
    "    return head\n",
    "\n",
    "head = Node(10)\n",
    "head.next = Node(20)\n",
    "head.next.next = Node(30)\n",
    "showList(head)\n",
    "head = delLast(head)\n",
    "showList(head)"
   ]
  },
  {
   "cell_type": "markdown",
   "id": "ada4f33a-f0f2-4181-9bcc-c993439cff1a",
   "metadata": {},
   "source": [
    "# 11. SORTED INSERT LINKED LIST"
   ]
  },
  {
   "cell_type": "code",
   "execution_count": 13,
   "id": "b7a9c753-2fce-43b6-92ca-ffddea62df1a",
   "metadata": {},
   "outputs": [
    {
     "name": "stdout",
     "output_type": "stream",
     "text": [
      "\n",
      "3 -> 4 -> 10 -> \n",
      "3 -> 4 -> 6 -> 10 -> "
     ]
    }
   ],
   "source": [
    "class Node:\n",
    "    def __init__(self,key):\n",
    "        self.key = key\n",
    "        self.next = None\n",
    "\n",
    "\n",
    "def SortInsert(head , x):\n",
    "    temp = Node(x)\n",
    "    if head is None:\n",
    "        return temp\n",
    "    elif x < head.key:\n",
    "        head.next = head\n",
    "        return temp\n",
    "    else:\n",
    "        current = head\n",
    "        while current.next != None and current.next.key < x:\n",
    "            current = current.next\n",
    "        temp.next = current.next\n",
    "        current.next = temp\n",
    "        return head\n",
    "\n",
    "head = Node(3)\n",
    "head.next = Node(4)\n",
    "head.next.next = Node(10)\n",
    "showList(head)\n",
    "head = SortInsert(head,6)\n",
    "showList(head)"
   ]
  },
  {
   "cell_type": "markdown",
   "id": "feb49949-fbc7-4f91-aaa7-f8f36bf50f12",
   "metadata": {},
   "source": [
    "# 12. REVERSE A LINKED LIST"
   ]
  },
  {
   "cell_type": "code",
   "execution_count": 7,
   "id": "633e1878-f8a6-4173-be61-ed983f6cae9b",
   "metadata": {},
   "outputs": [
    {
     "name": "stdout",
     "output_type": "stream",
     "text": [
      "\n",
      "10 -> 20 -> 30 -> \n",
      "30 -> 20 -> 10 -> "
     ]
    }
   ],
   "source": [
    "class Node:\n",
    "    def __init__(self,key):\n",
    "        self.key = key\n",
    "        self.next = None\n",
    "\n",
    "# def showList(head):\n",
    "#     current = head\n",
    "#     print()\n",
    "#     while current:\n",
    "#         print(current.key, end=\" -> \")\n",
    "#         current = current.next\n",
    "        \n",
    "def reverse(head):\n",
    "    current = head\n",
    "    prev = None\n",
    "    while current:\n",
    "        next = current.next\n",
    "        current.next = prev\n",
    "        prev = current\n",
    "        current = next\n",
    "    return prev\n",
    "        \n",
    "head = Node(10)\n",
    "head.next = Node(20)\n",
    "head.next.next = Node(30)\n",
    "showList(head)\n",
    "head = reverse(head)\n",
    "showList(head)"
   ]
  },
  {
   "cell_type": "markdown",
   "id": "2ff84be4-ab3a-4b9f-b8e9-59cc2cc1446d",
   "metadata": {},
   "source": [
    "# Final Code"
   ]
  },
  {
   "cell_type": "code",
   "execution_count": 45,
   "id": "302ae5a1-afaa-4ca0-8247-3d300e8a583d",
   "metadata": {},
   "outputs": [
    {
     "name": "stdout",
     "output_type": "stream",
     "text": [
      "\n",
      "10 -> None\n",
      "\n",
      "10 -> 20 -> 30 -> 40 -> None\n",
      "\n",
      "40 -> 30 -> 20 -> 10 -> None\n",
      "\n",
      "30 -> 20 -> 10 -> None\n"
     ]
    }
   ],
   "source": [
    "class Node:\n",
    "    def __init__(self, key):\n",
    "        self.key = key\n",
    "        self.next = None\n",
    "\n",
    "class LinkedList:\n",
    "    def __init__(self):\n",
    "        self.head = None\n",
    "        \n",
    "    def showList(self):\n",
    "        current = self.head\n",
    "        print()\n",
    "        while current:\n",
    "            print(current.key, end=\" -> \")\n",
    "            current = current.next\n",
    "        print(\"None\")\n",
    "\n",
    "    def append(self, key):\n",
    "        if self.head is None:\n",
    "            self.head = Node(key)\n",
    "        else:\n",
    "            current = self.head\n",
    "            while current.next is not None:\n",
    "                current = current.next\n",
    "            current.next = Node(key)\n",
    "        \n",
    "    def insertAtGivenPos(self, key, pos):\n",
    "        temp = Node(key)\n",
    "        if pos == 1:\n",
    "            temp.next = self.head\n",
    "            self.head = temp\n",
    "            return\n",
    "        current = self.head\n",
    "        for i in range(pos-2):\n",
    "            current = current.next\n",
    "            if current is None:\n",
    "                return\n",
    "        temp.next = current.next\n",
    "        current.next = temp\n",
    "    \n",
    "    def delete(self):\n",
    "        if self.head is None:\n",
    "            return None\n",
    "        else:\n",
    "            self.head = self.head.next\n",
    "\n",
    "    def reverse(self):\n",
    "        current = self.head\n",
    "        prev = None\n",
    "        while current:\n",
    "            next = current.next\n",
    "            current.next = prev\n",
    "            prev = current\n",
    "            current = next\n",
    "        self.head = prev\n",
    "        \n",
    "# Example usage\n",
    "list = LinkedList()\n",
    "list.append(10)\n",
    "list.showList()\n",
    "list.append(20)\n",
    "list.append(30)\n",
    "list.append(40)\n",
    "list.showList()\n",
    "list.reverse()\n",
    "list.showList()\n",
    "list.delete()\n",
    "list.showList()"
   ]
  },
  {
   "cell_type": "code",
   "execution_count": null,
   "id": "93105301-47f5-4cce-98ce-c829becf4e4a",
   "metadata": {},
   "outputs": [],
   "source": []
  },
  {
   "cell_type": "code",
   "execution_count": null,
   "id": "641cd010-2b2b-497d-9615-8a44a0a64786",
   "metadata": {},
   "outputs": [],
   "source": []
  }
 ],
 "metadata": {
  "kernelspec": {
   "display_name": "Python 3 (ipykernel)",
   "language": "python",
   "name": "python3"
  },
  "language_info": {
   "codemirror_mode": {
    "name": "ipython",
    "version": 3
   },
   "file_extension": ".py",
   "mimetype": "text/x-python",
   "name": "python",
   "nbconvert_exporter": "python",
   "pygments_lexer": "ipython3",
   "version": "3.11.7"
  }
 },
 "nbformat": 4,
 "nbformat_minor": 5
}
