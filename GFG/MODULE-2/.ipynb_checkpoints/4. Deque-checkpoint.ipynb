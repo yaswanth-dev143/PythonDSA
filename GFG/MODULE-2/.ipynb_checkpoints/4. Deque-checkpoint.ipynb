{
 "cells": [
  {
   "cell_type": "markdown",
   "id": "e2841d42-f3c2-4ac6-9024-badb7781739c",
   "metadata": {},
   "source": [
    "# 3. Deque in python"
   ]
  },
  {
   "cell_type": "code",
   "execution_count": 6,
   "id": "760e7ea9-44d9-44d2-a72f-9614feb950f9",
   "metadata": {},
   "outputs": [
    {
     "name": "stdout",
     "output_type": "stream",
     "text": [
      "deque([40, 10, 20, 30])\n",
      "30\n",
      "40\n",
      "deque([10, 20])\n"
     ]
    }
   ],
   "source": [
    "from collections import deque\n",
    "d = deque()\n",
    "d.append(10)\n",
    "d.append(20)\n",
    "d.append(30)\n",
    "d.appendleft(40)\n",
    "print(d)\n",
    "print(d.pop())\n",
    "print(d.popleft())\n",
    "print(d)"
   ]
  },
  {
   "cell_type": "code",
   "execution_count": 10,
   "id": "f875d6d9-e22d-41ea-89ea-34480dc5d5ee",
   "metadata": {},
   "outputs": [
    {
     "name": "stdout",
     "output_type": "stream",
     "text": [
      "2\n",
      "deque([20, 10, 30, 40])\n",
      "deque([20, 10, 30, 40, 50, 60])\n",
      "deque([25, 15, 20, 10, 30, 40, 50, 60])\n"
     ]
    }
   ],
   "source": [
    "from collections import deque\n",
    "d = deque([10,20,30,40])\n",
    "d.insert(2,10)\n",
    "print(d.count(10))\n",
    "d.remove(10)\n",
    "print(d)\n",
    "d.extend([50,60])\n",
    "print(d)\n",
    "d.extendleft([15,25])\n",
    "print(d)"
   ]
  },
  {
   "cell_type": "code",
   "execution_count": 1,
   "id": "291a35b0-a3a1-4bd5-aa79-0530af170e31",
   "metadata": {},
   "outputs": [
    {
     "name": "stdout",
     "output_type": "stream",
     "text": [
      "[10, 20, 30, 40]\n"
     ]
    },
    {
     "ename": "IndexError",
     "evalue": "list index out of range",
     "output_type": "error",
     "traceback": [
      "\u001b[1;31m---------------------------------------------------------------------------\u001b[0m",
      "\u001b[1;31mIndexError\u001b[0m                                Traceback (most recent call last)",
      "Cell \u001b[1;32mIn[1], line 6\u001b[0m\n\u001b[0;32m      4\u001b[0m right \u001b[38;5;241m=\u001b[39m \u001b[38;5;28mlen\u001b[39m(lis) \u001b[38;5;241m-\u001b[39m \u001b[38;5;241m1\u001b[39m\n\u001b[0;32m      5\u001b[0m \u001b[38;5;28;01mwhile\u001b[39;00m left \u001b[38;5;241m<\u001b[39m right:\n\u001b[1;32m----> 6\u001b[0m     lis[left] , lis[right] \u001b[38;5;241m=\u001b[39m lis[right] , lis[left]\n\u001b[0;32m      7\u001b[0m     left \u001b[38;5;241m+\u001b[39m\u001b[38;5;241m=\u001b[39m \u001b[38;5;241m1\u001b[39m\n\u001b[0;32m      8\u001b[0m     right \u001b[38;5;241m+\u001b[39m\u001b[38;5;241m=\u001b[39m \u001b[38;5;241m1\u001b[39m\n",
      "\u001b[1;31mIndexError\u001b[0m: list index out of range"
     ]
    }
   ],
   "source": [
    "lis = [10,20,30,40]\n",
    "print(lis)\n",
    "left = 0 \n",
    "right = len(lis) - 1\n",
    "while left < right:\n",
    "    lis[left] , lis[right] = lis[right] , lis[left]\n",
    "    left += 1\n",
    "    right -= 1\n",
    "print(lis)"
   ]
  },
  {
   "cell_type": "code",
   "execution_count": null,
   "id": "d3ac7bee-f2e3-4264-8729-ea1f37580465",
   "metadata": {},
   "outputs": [],
   "source": []
  }
 ],
 "metadata": {
  "kernelspec": {
   "display_name": "Python 3 (ipykernel)",
   "language": "python",
   "name": "python3"
  },
  "language_info": {
   "codemirror_mode": {
    "name": "ipython",
    "version": 3
   },
   "file_extension": ".py",
   "mimetype": "text/x-python",
   "name": "python",
   "nbconvert_exporter": "python",
   "pygments_lexer": "ipython3",
   "version": "3.11.7"
  }
 },
 "nbformat": 4,
 "nbformat_minor": 5
}
