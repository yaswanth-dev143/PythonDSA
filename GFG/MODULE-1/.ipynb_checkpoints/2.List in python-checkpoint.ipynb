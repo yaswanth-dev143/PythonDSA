{
 "cells": [
  {
   "cell_type": "code",
   "execution_count": 2,
   "id": "2dbef892",
   "metadata": {},
   "outputs": [
    {
     "name": "stdout",
     "output_type": "stream",
     "text": [
      "[10, 20, 30, 40, 50]\n",
      "40\n",
      "50\n",
      "40\n"
     ]
    }
   ],
   "source": [
    "l = [10,20,30,40,50]\n",
    "print(l)\n",
    "print(l[3])\n",
    "print(l[-1])\n",
    "print(l[-2])"
   ]
  },
  {
   "cell_type": "code",
   "execution_count": 4,
   "id": "bb0f7601",
   "metadata": {},
   "outputs": [
    {
     "name": "stdout",
     "output_type": "stream",
     "text": [
      "[10, 20, 30, 40, 50, 30]\n",
      "[10, 15, 20, 30, 40, 50, 30]\n",
      "True\n",
      "2\n",
      "3\n"
     ]
    }
   ],
   "source": [
    "l = [10,20,30,40,50]\n",
    "l.append(30)\n",
    "print(l)\n",
    "l.insert(1,15)\n",
    "print(l)\n",
    "print(15 in l)\n",
    "print(l.count(30))\n",
    "print(l.index(30))\n"
   ]
  },
  {
   "cell_type": "code",
   "execution_count": 15,
   "id": "a60ea520",
   "metadata": {},
   "outputs": [
    {
     "name": "stdout",
     "output_type": "stream",
     "text": [
      "[10, 30, 40, 50, 60, 70, 80]\n",
      "80\n",
      "[10, 30, 40, 50, 60, 70]\n",
      "40\n",
      "[10, 30, 50, 60, 70]\n",
      "[10, 50, 60, 70]\n",
      "[60, 70]\n"
     ]
    }
   ],
   "source": [
    "l = [10,20,30,40,50,60,70,80]\n",
    "l.remove(20)\n",
    "print(l)\n",
    "print(l.pop())\n",
    "print(l)\n",
    "print(l.pop(2))\n",
    "print(l)\n",
    "del l[1]\n",
    "print(l)\n",
    "del l[0:2]\n",
    "print(l)"
   ]
  },
  {
   "cell_type": "code",
   "execution_count": 16,
   "id": "1b7b43a7",
   "metadata": {},
   "outputs": [
    {
     "name": "stdout",
     "output_type": "stream",
     "text": [
      "50\n",
      "10\n",
      "120\n",
      "[50, 20, 40, 10]\n",
      "[10, 20, 40, 50]\n"
     ]
    }
   ],
   "source": [
    "l = [10,40,20,50]\n",
    "print(max(l))\n",
    "print(min(l))\n",
    "print(sum(l))\n",
    "l.reverse()\n",
    "print(l)\n",
    "l.sort()\n",
    "print(l)"
   ]
  },
  {
   "cell_type": "code",
   "execution_count": 2,
   "id": "800e6975",
   "metadata": {},
   "outputs": [
    {
     "name": "stdout",
     "output_type": "stream",
     "text": [
      "25.0\n"
     ]
    }
   ],
   "source": [
    "# Average of list\n",
    "# My code\n",
    "Avg = 0\n",
    "total = 0\n",
    "list = [10,20,30,40]\n",
    "for i in list:\n",
    "    total = total + i\n",
    "Avg = total/len(list)\n",
    "print(Avg)"
   ]
  },
  {
   "cell_type": "code",
   "execution_count": 5,
   "id": "65607d5c",
   "metadata": {},
   "outputs": [
    {
     "name": "stdout",
     "output_type": "stream",
     "text": [
      "30.137999999999998\n"
     ]
    }
   ],
   "source": [
    "# Average of list\n",
    "# Their Code\n",
    "def average(l):\n",
    "    sum = 0\n",
    "    for x in l:\n",
    "        sum = sum + x\n",
    "    n = len(l)\n",
    "    return sum/n\n",
    "l = [10,20,30,40,50.69]\n",
    "print(average(l))"
   ]
  },
  {
   "cell_type": "markdown",
   "id": "331a70ca-a74c-4def-af4d-4ea819c8d243",
   "metadata": {},
   "source": [
    "# 4. Even or ODD"
   ]
  },
  {
   "cell_type": "code",
   "execution_count": 5,
   "id": "4c7f8322-5bd6-4f25-9ce7-5a8d2e32a3cc",
   "metadata": {},
   "outputs": [
    {
     "name": "stdout",
     "output_type": "stream",
     "text": [
      "([2, 4, 6, 8], [1, 3, 5, 7, 9])\n"
     ]
    }
   ],
   "source": [
    "def getEveOdd(lis):\n",
    "    even = []\n",
    "    odd = []\n",
    "    for i in lis:\n",
    "        if(i%2==0):\n",
    "            even.append(i)\n",
    "        else:\n",
    "            odd.append(i)\n",
    "    return even,odd\n",
    "\n",
    "l = [1,2,3,4,5,6,7,8,9]\n",
    "print(getEveOdd(l))"
   ]
  },
  {
   "cell_type": "markdown",
   "id": "5cc3bb9c-0964-4908-a784-157683231b8c",
   "metadata": {},
   "source": [
    "# 5. get smaller eleemnts "
   ]
  },
  {
   "cell_type": "code",
   "execution_count": 10,
   "id": "3e7f3e8a-479e-4d8e-8e35-0b4b315d4c8f",
   "metadata": {},
   "outputs": [
    {
     "data": {
      "text/plain": [
       "[8, 3, 7]"
      ]
     },
     "execution_count": 10,
     "metadata": {},
     "output_type": "execute_result"
    }
   ],
   "source": [
    "def getSmaller(lis,x):\n",
    "    small = []\n",
    "    for i in lis:\n",
    "        if i<x:\n",
    "            small.append(i)\n",
    "    return small\n",
    "\n",
    "l = [8,100,20,40,3,7]\n",
    "n=10\n",
    "getSmaller(l,n)"
   ]
  },
  {
   "cell_type": "markdown",
   "id": "e62d146a-568a-4e42-b69a-a7771c583203",
   "metadata": {},
   "source": [
    "# 6. SLICING"
   ]
  },
  {
   "cell_type": "code",
   "execution_count": 21,
   "id": "7c02bc19-1b23-4866-877b-bd98e5dc21b8",
   "metadata": {},
   "outputs": [
    {
     "name": "stdout",
     "output_type": "stream",
     "text": [
      "[10, 30, 50]\n",
      "[10, 20, 30, 40]\n",
      "[30, 40, 50]\n",
      "[50, 40, 30, 20, 10]\n",
      "[50, 40, 30, 20, 10]\n"
     ]
    }
   ],
   "source": [
    "l = [10,20,30,40,50]\n",
    "print(l[0:5:2])\n",
    "print(l[:4])\n",
    "print(l[2:])\n",
    "print(l[-1:-6:-1])\n",
    "print(l[::-1]) # used to reverse anythin using slicing"
   ]
  },
  {
   "cell_type": "markdown",
   "id": "8f2e5042-fd39-42f8-9bdb-bcab9fa7a35a",
   "metadata": {},
   "source": [
    "# 7. Comprehesions"
   ]
  },
  {
   "cell_type": "code",
   "execution_count": 25,
   "id": "ea51ef2d-9178-4835-b865-b2274541e9da",
   "metadata": {},
   "outputs": [
    {
     "data": {
      "text/plain": [
       "[8, 3, 7]"
      ]
     },
     "execution_count": 25,
     "metadata": {},
     "output_type": "execute_result"
    }
   ],
   "source": [
    "def getComsmaller(lis,x):\n",
    "    return [ i for i in lis if i<x ]\n",
    "l = [8,100,20,40,3,7]\n",
    "n=10\n",
    "getComsmaller(l,n)"
   ]
  },
  {
   "cell_type": "code",
   "execution_count": 38,
   "id": "54dc6e4b-e1ff-44e3-9456-38f572c7b6ec",
   "metadata": {},
   "outputs": [
    {
     "name": "stdout",
     "output_type": "stream",
     "text": [
      "([2, 4, 6, 8], [1, 3, 5, 7, 9])\n"
     ]
    }
   ],
   "source": [
    "def getComeveOdd(lis):\n",
    "    return [i for i in lis if i%2==0] ,[i for i in lis if i%2 != 0]\n",
    "l = [1,2,3,4,5,6,7,8,9]\n",
    "print(getComeveOdd(l))"
   ]
  },
  {
   "cell_type": "code",
   "execution_count": 39,
   "id": "eb85f5a1-c4c2-44c3-a816-3426df8bdd61",
   "metadata": {},
   "outputs": [
    {
     "name": "stdout",
     "output_type": "stream",
     "text": [
      "['e', 'e', 'o', 'e', 'e']\n"
     ]
    }
   ],
   "source": [
    "s= \"geelsforgeeks\"\n",
    "l1 = [x for x in s if x in \"aeiou\"]\n",
    "print(l1)"
   ]
  },
  {
   "cell_type": "code",
   "execution_count": 5,
   "id": "c0b38234-c86a-4744-8271-0abce2aedfc5",
   "metadata": {},
   "outputs": [
    {
     "name": "stdout",
     "output_type": "stream",
     "text": [
      "['geeks', 'gfg']\n"
     ]
    }
   ],
   "source": [
    "l2 = [\"geeks\",\"ide\",\"course\",\"gfg\"]\n",
    "l3 = [x for x in l2 if x.startswith(\"g\")]\n",
    "print(l3)"
   ]
  },
  {
   "cell_type": "code",
   "execution_count": 6,
   "id": "147a66c1-1699-4e6e-aa52-95927618ab1a",
   "metadata": {},
   "outputs": [
    {
     "name": "stdout",
     "output_type": "stream",
     "text": [
      "['GEEKS', 'GEEKS']\n"
     ]
    }
   ],
   "source": [
    "l = [\"geeks\", \"for\", \"geeks\"]\n",
    "l2 = [x.upper() for x in l if x.startswith(\"g\")]\n",
    "print(l2)"
   ]
  },
  {
   "cell_type": "code",
   "execution_count": 11,
   "id": "5f6a8756-0a75-4052-8623-19092891d2a5",
   "metadata": {},
   "outputs": [
    {
     "name": "stdout",
     "output_type": "stream",
     "text": [
      "{10, 20, 4}\n"
     ]
    }
   ],
   "source": [
    "# SET COMPREHENSION\n",
    "l  = [10,20,3,4,10,20,7,3]\n",
    "s = { x for x in l if x%2==0 }\n",
    "print(s)"
   ]
  },
  {
   "cell_type": "code",
   "execution_count": 12,
   "id": "88918211-da75-40f1-b6de-1d778c67d5f5",
   "metadata": {},
   "outputs": [
    {
     "name": "stdout",
     "output_type": "stream",
     "text": [
      "{1: 1, 3: 27, 4: 64, 2: 8, 5: 125}\n"
     ]
    }
   ],
   "source": [
    "# DICTONARY COMPRENSIONS\n",
    "l1 = [1,3,4,2,5]\n",
    "d1 = { x:x**3 for x in l1 }\n",
    "print(d1)"
   ]
  },
  {
   "cell_type": "code",
   "execution_count": 15,
   "id": "aad584cc-7707-4030-b950-d83160fcc0f5",
   "metadata": {},
   "outputs": [
    {
     "name": "stdout",
     "output_type": "stream",
     "text": [
      "{0: 'ID0', 1: 'ID1', 2: 'ID2', 3: 'ID3', 4: 'ID4'}\n"
     ]
    }
   ],
   "source": [
    "d2 = { x:f\"ID{x}\" for x in range(5) }\n",
    "print(d2)"
   ]
  },
  {
   "cell_type": "code",
   "execution_count": 17,
   "id": "603766fb-12ec-47e5-9a8a-9c516deca80f",
   "metadata": {},
   "outputs": [
    {
     "name": "stdout",
     "output_type": "stream",
     "text": [
      "{101: 'gfg', 102: 'ide', 103: 'course'}\n"
     ]
    }
   ],
   "source": [
    "l1 = [101,102,103]\n",
    "l2 = [\"gfg\",\"ide\",\"course\"]\n",
    "d3= { l1[i]:l2[i] for i in range(len(l1))}\n",
    "print(d3)"
   ]
  },
  {
   "cell_type": "code",
   "execution_count": 24,
   "id": "64d5079f-cad0-4a33-84bd-7009ee66d37e",
   "metadata": {},
   "outputs": [
    {
     "name": "stdout",
     "output_type": "stream",
     "text": [
      "dict_items([(101, 'gfg'), (102, 'ide'), (103, 'course')])\n",
      "{'gfg': 101, 'ide': 102, 'course': 103}\n"
     ]
    }
   ],
   "source": [
    "# REVERSING THE THE KEY VALUE PAIR IN THE DICTONARY\n",
    "\n",
    "d1 = {101:\"gfg\",102:\"ide\",103:\"course\"}\n",
    "d2 = { v:k for (k,v) in d1.items() }\n",
    "print(d1.items())\n",
    "print(d2)"
   ]
  },
  {
   "cell_type": "markdown",
   "id": "edab297b-bdea-40c2-8c89-27fb273b53f5",
   "metadata": {},
   "source": [
    "# 8. LARGEST ELEMENT IN THE LIST"
   ]
  },
  {
   "cell_type": "code",
   "execution_count": 36,
   "id": "2bf9df37-ec27-4db8-b5b7-b67f70b17b18",
   "metadata": {},
   "outputs": [
    {
     "name": "stdout",
     "output_type": "stream",
     "text": [
      "1\n",
      "2\n",
      "3\n",
      "4\n",
      "5\n"
     ]
    }
   ],
   "source": [
    "#MY CODE\n",
    "L= [1,2,3,4,5]\n",
    "for e in L:\n",
    "    if e < e+1:\n",
    "        print(e)"
   ]
  },
  {
   "cell_type": "code",
   "execution_count": 41,
   "id": "0d2cf054-c56d-4708-b1c5-3110326c495a",
   "metadata": {},
   "outputs": [
    {
     "name": "stdout",
     "output_type": "stream",
     "text": [
      "10\n"
     ]
    }
   ],
   "source": [
    "# GEEKS SIMPLE CODE\n",
    "\n",
    "def getMax(l):\n",
    "    for x in l:\n",
    "        for y in l:\n",
    "            if y > x :\n",
    "                break\n",
    "        else:\n",
    "            return x\n",
    "    return none\n",
    "\n",
    "print(getMax([1,2,3,10,5,6]))"
   ]
  },
  {
   "cell_type": "code",
   "execution_count": 43,
   "id": "c39b3040-3e37-41d6-bd0b-78d8f98e4363",
   "metadata": {},
   "outputs": [
    {
     "name": "stdout",
     "output_type": "stream",
     "text": [
      "90\n"
     ]
    }
   ],
   "source": [
    "# GEEKS EFFICENT C0DE\n",
    "\n",
    "def getMax(l):\n",
    "    if not l:\n",
    "        return none\n",
    "    else:\n",
    "        res = l[0]\n",
    "        for i in range(1,len(l)):\n",
    "            if l[i] > res:\n",
    "                res = l[i]\n",
    "        return res \n",
    "\n",
    "print(getMax([2,3,56,78,90,3,4,5,6]))"
   ]
  },
  {
   "cell_type": "markdown",
   "id": "d86f2b3a-35bb-45d4-8bb2-6e093fcb8d37",
   "metadata": {},
   "source": [
    "# 9. SECOND LARGESRT ELEMENT IN LIST"
   ]
  },
  {
   "cell_type": "code",
   "execution_count": 52,
   "id": "73f865fb-b95c-4447-90a2-b12887310957",
   "metadata": {},
   "outputs": [
    {
     "name": "stdout",
     "output_type": "stream",
     "text": [
      "4\n"
     ]
    }
   ],
   "source": [
    "# GEEKS NAIVE CODE (TWO TRAVERSAL)\n",
    "\n",
    "def getMax(l):\n",
    "    res = l[0]\n",
    "    for i in range(1,len(l)):\n",
    "        if l[i] > res:\n",
    "            res = l[i]\n",
    "    return res\n",
    "    \n",
    "def getsecMax(l):\n",
    "    if len(l)<=1:\n",
    "        return None\n",
    "    lar = getMax(l)\n",
    "    slar = None\n",
    "    for x in l:\n",
    "        if x!= lar:\n",
    "            if slar == None:\n",
    "                slar = x\n",
    "            else:\n",
    "                slar = max(slar,x)\n",
    "    return x\n",
    "    \n",
    "print(getsecMax([1,2,367,45,3423,56,3434,4]))"
   ]
  },
  {
   "cell_type": "code",
   "execution_count": null,
   "id": "b7c06267-09c2-46f2-8120-0d538ed6d4f6",
   "metadata": {},
   "outputs": [],
   "source": []
  }
 ],
 "metadata": {
  "kernelspec": {
   "display_name": "Python 3 (ipykernel)",
   "language": "python",
   "name": "python3"
  },
  "language_info": {
   "codemirror_mode": {
    "name": "ipython",
    "version": 3
   },
   "file_extension": ".py",
   "mimetype": "text/x-python",
   "name": "python",
   "nbconvert_exporter": "python",
   "pygments_lexer": "ipython3",
   "version": "3.11.7"
  }
 },
 "nbformat": 4,
 "nbformat_minor": 5
}
