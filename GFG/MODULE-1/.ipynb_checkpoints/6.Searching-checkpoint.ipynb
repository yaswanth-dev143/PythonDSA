{
 "cells": [
  {
   "cell_type": "code",
   "execution_count": 11,
   "id": "6d9d6cf0-5c88-4b21-83d0-249c82f0cba0",
   "metadata": {},
   "outputs": [
    {
     "name": "stdout",
     "output_type": "stream",
     "text": [
      "err\n",
      "err\n",
      "err\n",
      "3\n",
      "err\n",
      "err\n",
      "err\n",
      "err\n"
     ]
    }
   ],
   "source": [
    "l =[1,2,3,4,5,6,7,8]\n",
    "t = 4\n",
    "for i in range(len(l)):\n",
    "    if l[i] == t:\n",
    "        print(i)\n",
    "    else:\n",
    "        print(\"err\")"
   ]
  },
  {
   "cell_type": "code",
   "execution_count": 27,
   "id": "693f17b7-0dd7-4121-ac7e-7f36e7eae815",
   "metadata": {},
   "outputs": [
    {
     "data": {
      "text/plain": [
       "-1"
      ]
     },
     "execution_count": 27,
     "metadata": {},
     "output_type": "execute_result"
    }
   ],
   "source": [
    "def bin(list,tar):\n",
    "    low = 0\n",
    "    high = len(list)-1\n",
    "    while low <= high:\n",
    "        mid = (low + high)//2\n",
    "        if list[mid] == tar:\n",
    "            return [mid , list[mid]]\n",
    "        elif list[mid] < x:\n",
    "            low = mid + 1\n",
    "        elif list[mid] > x:\n",
    "            high = mid - 1\n",
    "    else:\n",
    "        return -1\n",
    "\n",
    "            \n",
    "list = [10,20,30,40,50,60,70]\n",
    "tar = 30\n",
    "bin(list,tar)"
   ]
  },
  {
   "cell_type": "code",
   "execution_count": null,
   "id": "991090d9-e446-4635-8c14-9b7a276d15ea",
   "metadata": {},
   "outputs": [],
   "source": []
  }
 ],
 "metadata": {
  "kernelspec": {
   "display_name": "Python 3 (ipykernel)",
   "language": "python",
   "name": "python3"
  },
  "language_info": {
   "codemirror_mode": {
    "name": "ipython",
    "version": 3
   },
   "file_extension": ".py",
   "mimetype": "text/x-python",
   "name": "python",
   "nbconvert_exporter": "python",
   "pygments_lexer": "ipython3",
   "version": "3.11.7"
  }
 },
 "nbformat": 4,
 "nbformat_minor": 5
}
