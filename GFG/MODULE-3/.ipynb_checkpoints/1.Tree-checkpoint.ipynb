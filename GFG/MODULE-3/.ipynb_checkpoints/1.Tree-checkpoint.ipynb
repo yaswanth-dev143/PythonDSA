{
 "cells": [
  {
   "cell_type": "markdown",
   "id": "553257e0-12b4-4dd9-a1be-1d4becedb2f1",
   "metadata": {},
   "source": [
    "# 4. BINARY TREE IN PYTHON"
   ]
  },
  {
   "cell_type": "code",
   "execution_count": 116,
   "id": "3a494db4-ca4f-4980-8bad-a24991975be3",
   "metadata": {},
   "outputs": [],
   "source": [
    "class Node:\n",
    "    def __init__(self,k):\n",
    "        self.left = None\n",
    "        self.right = None\n",
    "        self.key = k\n",
    "\n",
    "# Driver Code\n",
    "root = Node(10)\n",
    "root.left = Node(20)\n",
    "root.right = Node(30)\n",
    "root.right.left = Node(40)\n",
    "root.right.right = Node(50)"
   ]
  },
  {
   "cell_type": "markdown",
   "id": "174ae25b-c246-468a-9aef-f5baa8d3b4f9",
   "metadata": {},
   "source": [
    "# 5. INORDER TRAVERSAL IN PYTHON"
   ]
  },
  {
   "cell_type": "code",
   "execution_count": 75,
   "id": "9c950ff5-f2a9-4f63-af4f-076dd04dbf6a",
   "metadata": {},
   "outputs": [
    {
     "name": "stdout",
     "output_type": "stream",
     "text": [
      "20 -> 10 -> 40 -> 30 -> 50 -> "
     ]
    }
   ],
   "source": [
    "def inorder(root):\n",
    "    if root != None:\n",
    "        inorder(root.left)\n",
    "        print(root.key ,end=\" -> \" )\n",
    "        inorder(root.right)\n",
    "\n",
    "inorder(root)"
   ]
  },
  {
   "cell_type": "markdown",
   "id": "023bbaf2-68b6-48e2-9a48-2dc8393edf9c",
   "metadata": {},
   "source": [
    "# 6. PREORDER TRAVERSAL IN PYTHON"
   ]
  },
  {
   "cell_type": "code",
   "execution_count": 76,
   "id": "00ff23f5-5eef-44ab-96ec-3c3c1fb310a6",
   "metadata": {},
   "outputs": [
    {
     "name": "stdout",
     "output_type": "stream",
     "text": [
      "10 -> 20 -> 30 -> 40 -> 50 -> "
     ]
    }
   ],
   "source": [
    "def preorder(root):\n",
    "    if root != None:\n",
    "        print(root.key , end=\" -> \")\n",
    "        preorder(root.left)\n",
    "        preorder(root.right)\n",
    "preorder(root)"
   ]
  },
  {
   "cell_type": "markdown",
   "id": "8d214fde-b848-4248-999b-0c25509ed276",
   "metadata": {},
   "source": [
    "# 7. POSTORDER TRAVERSAL IN PYTHON"
   ]
  },
  {
   "cell_type": "code",
   "execution_count": 77,
   "id": "32ab5af1-bfd3-4b80-aa3c-14df8a98c465",
   "metadata": {},
   "outputs": [
    {
     "name": "stdout",
     "output_type": "stream",
     "text": [
      "20 -> 40 -> 50 -> 30 -> 10 -> "
     ]
    }
   ],
   "source": [
    "def postorder(root):\n",
    "    if root != None:\n",
    "        postorder(root.left)\n",
    "        postorder(root.right)\n",
    "        print(root.key , end=\" -> \")\n",
    "postorder(root)"
   ]
  },
  {
   "cell_type": "markdown",
   "id": "bb1fe51d-c83f-4163-8605-57d1df2d4c57",
   "metadata": {},
   "source": [
    "# 8. SIZE OF BINARY TREE IN PYTHON"
   ]
  },
  {
   "cell_type": "code",
   "execution_count": 78,
   "id": "ba72431b-21ce-4bcd-a5b2-33af377c896d",
   "metadata": {},
   "outputs": [
    {
     "data": {
      "text/plain": [
       "5"
      ]
     },
     "execution_count": 78,
     "metadata": {},
     "output_type": "execute_result"
    }
   ],
   "source": [
    "def sizeOftree(root):\n",
    "    if root == None:\n",
    "        return 0\n",
    "    else:\n",
    "        rt = sizeOftree(root.left)\n",
    "        lt = sizeOftree(root.right)\n",
    "        return rt + lt + 1\n",
    "        # return sizeOftree(root.left) +  sizeOftre e(root.right) + 1\n",
    "sizeOftree(root)"
   ]
  },
  {
   "cell_type": "markdown",
   "id": "69156cb4-5dfe-4fda-845b-f9c4e40ca915",
   "metadata": {},
   "source": [
    "# 9. MAXIMUM IN BINARY TREE IN PYTHON"
   ]
  },
  {
   "cell_type": "code",
   "execution_count": 117,
   "id": "ae4555aa-2136-46fe-a617-31d536f0145d",
   "metadata": {},
   "outputs": [
    {
     "data": {
      "text/plain": [
       "50"
      ]
     },
     "execution_count": 117,
     "metadata": {},
     "output_type": "execute_result"
    }
   ],
   "source": [
    "def maxOftree(root):\n",
    "    if root == None:\n",
    "        return float('')\n",
    "    else:\n",
    "        lt = maxOftree(root.left)\n",
    "        rt = maxOftree(root.right)\n",
    "        return max(root.key,lt,rt)\n",
    "        # return max(root.key,maxOftree(root.left),maxOftree(root.right))\n",
    "maxOftree(root)"
   ]
  },
  {
   "cell_type": "markdown",
   "id": "e6642472-a6f3-4bd8-8955-f1bfc271fa09",
   "metadata": {},
   "source": [
    "# 10. SEARCHING IN BINARY TREE IN PYTHON"
   ]
  },
  {
   "cell_type": "code",
   "execution_count": 134,
   "id": "43f3d6e4-544b-43e6-944b-0fb50240d73c",
   "metadata": {},
   "outputs": [
    {
     "data": {
      "text/plain": [
       "True"
      ]
     },
     "execution_count": 134,
     "metadata": {},
     "output_type": "execute_result"
    }
   ],
   "source": [
    "def searchOftree(root,x):\n",
    "    if root == None:\n",
    "        return False\n",
    "    elif root.key == x:\n",
    "        return True\n",
    "    elif searchOftree(root.left,x) == True:\n",
    "        return True\n",
    "    else:\n",
    "        return searchOftree(root.right,key)\n",
    "        \n",
    "searchOftree(root,20)"
   ]
  },
  {
   "cell_type": "markdown",
   "id": "e72b757c-f06e-43c8-8230-ddd5db43bbf4",
   "metadata": {},
   "source": [
    "# 11. HEIGHT OF BINARY TREE IN PYTHON"
   ]
  },
  {
   "cell_type": "code",
   "execution_count": 140,
   "id": "4dacd8f1-0f57-4d2e-a447-67fe4772ed65",
   "metadata": {},
   "outputs": [
    {
     "data": {
      "text/plain": [
       "2"
      ]
     },
     "execution_count": 140,
     "metadata": {},
     "output_type": "execute_result"
    }
   ],
   "source": [
    "def heightOftree(root):\n",
    "    if root is None:\n",
    "        return 0\n",
    "    else:\n",
    "        lt = heightOftree(root.left)\n",
    "        rt = heightOftree(root.right)\n",
    "        return max(lt,rt)+1\n",
    "        # return max(heightOftree(root.left),heightOftree(root.right))+1\n",
    "heightOftree(root)"
   ]
  },
  {
   "cell_type": "code",
   "execution_count": null,
   "id": "7cce5371-f69c-47d0-8978-9a65e9b4f0be",
   "metadata": {},
   "outputs": [],
   "source": []
  }
 ],
 "metadata": {
  "kernelspec": {
   "display_name": "Python 3 (ipykernel)",
   "language": "python",
   "name": "python3"
  },
  "language_info": {
   "codemirror_mode": {
    "name": "ipython",
    "version": 3
   },
   "file_extension": ".py",
   "mimetype": "text/x-python",
   "name": "python",
   "nbconvert_exporter": "python",
   "pygments_lexer": "ipython3",
   "version": "3.11.7"
  }
 },
 "nbformat": 4,
 "nbformat_minor": 5
}
