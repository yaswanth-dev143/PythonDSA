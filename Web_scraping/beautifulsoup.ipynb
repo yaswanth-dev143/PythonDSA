{
 "cells": [
  {
   "cell_type": "markdown",
   "id": "23fe8507-053f-4b58-83b3-6d8b772db07a",
   "metadata": {},
   "source": [
    "# Requests"
   ]
  },
  {
   "cell_type": "code",
   "execution_count": 1,
   "id": "0aac03e6-6ac3-4337-af4d-412a120d832e",
   "metadata": {},
   "outputs": [
    {
     "name": "stdout",
     "output_type": "stream",
     "text": [
      "Requirement already satisfied: requests in c:\\users\\yaswa\\anaconda3\\lib\\site-packages (2.31.0)\n",
      "Requirement already satisfied: charset-normalizer<4,>=2 in c:\\users\\yaswa\\anaconda3\\lib\\site-packages (from requests) (2.0.4)\n",
      "Requirement already satisfied: idna<4,>=2.5 in c:\\users\\yaswa\\anaconda3\\lib\\site-packages (from requests) (3.4)\n",
      "Requirement already satisfied: urllib3<3,>=1.21.1 in c:\\users\\yaswa\\anaconda3\\lib\\site-packages (from requests) (2.5.0)\n",
      "Requirement already satisfied: certifi>=2017.4.17 in c:\\users\\yaswa\\anaconda3\\lib\\site-packages (from requests) (2025.7.9)\n",
      "Note: you may need to restart the kernel to use updated packages.\n"
     ]
    }
   ],
   "source": [
    "pip install requests"
   ]
  },
  {
   "cell_type": "code",
   "execution_count": 25,
   "id": "e12561f9-a57a-46aa-9b51-d5f61a652250",
   "metadata": {},
   "outputs": [
    {
     "name": "stdout",
     "output_type": "stream",
     "text": [
      "403\n",
      "<html>\n",
      "  <head>\n",
      "    <style global>body{font-family:Arial,Helvetica,sans-serif}.container{align-items:center;display:flex;flex-direction:column;gap:2rem;height:100%;justify-content:center;width:100%}@keyframes enlarge-appear{0%{opacity:0;transform:scale(75%) rotate(-90deg)}to{opacity:1;transform:scale(100%) rotate(0deg)}}.logo{color:#8e8ea0}.scale-appear{animation:enlarge-appear .4s ease-out}@media (min-width:768px){.scale-appear{height:48px;width:48px}}.data:empty{display:none}.data{border-radius:5px;color:#8e8ea0;text-align:center}@media (prefers-color-scheme:dark){body{background-color:#343541}.logo{color:#acacbe}}</style>\n",
      "  <meta http-equiv=\"refresh\" content=\"360\">\n",
      "</head>\n",
      "  <body>\n",
      "    <div class=\"container\">\n",
      "      <div class=\"logo\">\n",
      "        <svg\n",
      "          width=\"41\"\n",
      "          height=\"41\"\n",
      "          viewBox=\"0 0 41 41\"\n",
      "          fill=\"none\"\n",
      "          xmlns=\"http://www.w3.org/2000/svg\"\n",
      "          strokeWidth=\"2\"\n",
      "          class=\"scale-appear\"\n",
      "        >\n",
      "          <path\n",
      "            d=\"M37.5324 16.8707C37.9808 15.5241 38.1363 14.0974 37.9886 12.6859C37.8409 11.2744 37.3934 9.91076 36.676 8.68622C35.6126 6.83404 33.9882 5.3676 32.0373 4.4985C30.0864 3.62941 27.9098 3.40259 25.8215 3.85078C24.8796 2.7893 23.7219 1.94125 22.4257 1.36341C21.1295 0.785575 19.7249 0.491269 18.3058 0.500197C16.1708 0.495044 14.0893 1.16803 12.3614 2.42214C10.6335 3.67624 9.34853 5.44666 8.6917 7.47815C7.30085 7.76286 5.98686 8.3414 4.8377 9.17505C3.68854 10.0087 2.73073 11.0782 2.02839 12.312C0.956464 14.1591 0.498905 16.2988 0.721698 18.4228C0.944492 20.5467 1.83612 22.5449 3.268 24.1293C2.81966 25.4759 2.66413 26.9026 2.81182 28.3141C2.95951 29.7256 3.40701 31.0892 4.12437 32.3138C5.18791 34.1659 6.8123 35.6322 8.76321 36.5013C10.7141 37.3704 12.8907 37.5973 14.9789 37.1492C15.9208 38.2107 17.0786 39.0587 18.3747 39.6366C19.6709 40.2144 21.0755 40.5087 22.4946 40.4998C24.6307 40.5054 26.7133 39.8321 28.4418 38.5772C30.1704 37.3223 31.4556 35.5506 32.1119 33.5179C33.5027 33.2332 34.8167 32.6547 35.9659 31.821C37.115 30.9874 38.0728 29.9178 38.7752 28.684C39.8458 26.8371 40.3023 24.6979 40.0789 22.5748C39.8556 20.4517 38.9639 18.4544 37.5324 16.8707ZM22.4978 37.8849C20.7443 37.8874 19.0459 37.2733 17.6994 36.1501C17.7601 36.117 17.8666 36.0586 17.936 36.0161L25.9004 31.4156C26.1003 31.3019 26.2663 31.137 26.3813 30.9378C26.4964 30.7386 26.5563 30.5124 26.5549 30.2825V19.0542L29.9213 20.998C29.9389 21.0068 29.9541 21.0198 29.9656 21.0359C29.977 21.052 29.9842 21.0707 29.9867 21.0902V30.3889C29.9842 32.375 29.1946 34.2791 27.7909 35.6841C26.3872 37.0892 24.4838 37.8806 22.4978 37.8849ZM6.39227 31.0064C5.51397 29.4888 5.19742 27.7107 5.49804 25.9832C5.55718 26.0187 5.66048 26.0818 5.73461 26.1244L13.699 30.7248C13.8975 30.8408 14.1233 30.902 14.3532 30.902C14.583 30.902 14.8088 30.8408 15.0073 30.7248L24.731 25.1103V28.9979C24.7321 29.0177 24.7283 29.0376 24.7199 29.0556C24.7115 29.0736 24.6988 29.0893 24.6829 29.1012L16.6317 33.7497C14.9096 34.7416 12.8643 35.0097 10.9447 34.4954C9.02506 33.9811 7.38785 32.7263 6.39227 31.0064ZM4.29707 13.6194C5.17156 12.0998 6.55279 10.9364 8.19885 10.3327C8.19885 10.4013 8.19491 10.5228 8.19491 10.6071V19.808C8.19351 20.0378 8.25334 20.2638 8.36823 20.4629C8.48312 20.6619 8.64893 20.8267 8.84863 20.9404L18.5723 26.5542L15.206 28.4979C15.1894 28.5089 15.1703 28.5155 15.1505 28.5173C15.1307 28.5191 15.1107 28.516 15.0924 28.5082L7.04046 23.8557C5.32135 22.8601 4.06716 21.2235 3.55289 19.3046C3.03862 17.3858 3.30624 15.3413 4.29707 13.6194ZM31.955 20.0556L22.2312 14.4411L25.5976 12.4981C25.6142 12.4872 25.6333 12.4805 25.6531 12.4787C25.6729 12.4769 25.6928 12.4801 25.7111 12.4879L33.7631 17.1364C34.9967 17.849 36.0017 18.8982 36.6606 20.1613C37.3194 21.4244 37.6047 22.849 37.4832 24.2684C37.3617 25.6878 36.8382 27.0432 35.9743 28.1759C35.1103 29.3086 33.9415 30.1717 32.6047 30.6641C32.6047 30.5947 32.6047 30.4733 32.6047 30.3889V21.188C32.6066 20.9586 32.5474 20.7328 32.4332 20.5338C32.319 20.3348 32.154 20.1698 31.955 20.0556ZM35.3055 15.0128C35.2464 14.9765 35.1431 14.9142 35.069 14.8717L27.1045 10.2712C26.906 10.1554 26.6803 10.0943 26.4504 10.0943C26.2206 10.0943 25.9948 10.1554 25.7963 10.2712L16.0726 15.8858V11.9982C16.0715 11.9783 16.0753 11.9585 16.0837 11.9405C16.0921 11.9225 16.1048 11.9068 16.1207 11.8949L24.1719 7.25025C25.4053 6.53903 26.8158 6.19376 28.2383 6.25482C29.6608 6.31589 31.0364 6.78077 32.2044 7.59508C33.3723 8.40939 34.2842 9.53945 34.8334 10.8531C35.3826 12.1667 35.5464 13.6095 35.3055 15.0128ZM14.2424 21.9419L10.8752 19.9981C10.8576 19.9893 10.8423 19.9763 10.8309 19.9602C10.8195 19.9441 10.8122 19.9254 10.8098 19.9058V10.6071C10.8107 9.18295 11.2173 7.78848 11.9819 6.58696C12.7466 5.38544 13.8377 4.42659 15.1275 3.82264C16.4173 3.21869 17.8524 2.99464 19.2649 3.1767C20.6775 3.35876 22.0089 3.93941 23.1034 4.85067C23.0427 4.88379 22.937 4.94215 22.8668 4.98473L14.9024 9.58517C14.7025 9.69878 14.5366 9.86356 14.4215 10.0626C14.3065 10.2616 14.2466 10.4877 14.2479 10.7175L14.2424 21.9419ZM16.071 17.9991L20.4018 15.4978L24.7325 17.9975V22.9985L20.4018 25.4983L16.071 22.9985V17.9991Z\"\n",
      "            fill=\"currentColor\"\n",
      "          />\n",
      "        </svg>\n",
      "      </div>\n",
      "      <div class=\"data\"><div class=\"main-wrapper\" role=\"main\"><div class=\"main-content\"><noscript><div class=\"h2\"><span id=\"challenge-error-text\">Enable JavaScript and cookies to continue</span></div></noscript></div></div><script>(function(){window._cf_chl_opt = {cvId: '3',cZone: 'openai.com',cType: 'managed',cRay: '990a393eaa87935f',cH: 'j5sYzj8fZpqwHFdW765s2kB4qZ1RQl_eIqJAC8iixN0-1760813450-1.2.1.1-0bRlYOdB5WnaWXQjZ6A2UhSVCd8ffEqFtp6B.ffTIPZHur8SSUmT4bpWkFPpB6Ra',cUPMDTk:\"\\/?__cf_chl_tk=envJo8J97CXdLahNNXnjtg1Ldk5cJzyo87irJnK6ILY-1760813450-1.0.1.1-7rtMd5pUJ99Eah3Cmw2VKNYGljHfMrGx9lK50HXDF9A\",cFPWv: 'g',cITimeS: '1760813450',cTplC:1,cTplV:5,cTplB: 'cf',fa:\"\\/?__cf_chl_f_tk=envJo8J97CXdLahNNXnjtg1Ldk5cJzyo87irJnK6ILY-1760813450-1.0.1.1-7rtMd5pUJ99Eah3Cmw2VKNYGljHfMrGx9lK50HXDF9A\",md: 'XqOT1_59yWxcVWRpDPKOzEBlxpzJFEQ1YchNK77spZA-1760813450-1.2.1.1-tCMeP9I_C9fqUlm5XhyNzb.WeiN6zE_m2DbULpb8mGXwCvxDWiRubSUTzsEkxipkWJGcun7w1eIKhXI_Bu5fCY0Jp0Hr2PhCdkjl2CnuX9Hm3FQ6STWTdTue8pmjZNKZPi0Oj3N6OfL.lX8uWGgCmSgkiGpUmZwa5t1xUktZVFabMIVvHS.i0C9TuoQuAS1MH7QpXPpaxPoXj3tKM72ATtAzmCRV8Dsn1CPpVtQLZMSPEgSV98UJ_XQOx0X0kwXSEDINa3m4pu4KG32G9ZhmKEaKh3XArr4e9cYNuPO8C910c5bR0Zs9Elmd0pcCZiGqiTc_FCI0NbvQmzpths.dXdXVCbf3phVwYJaZ1md8cKv3ayDh6Ic9dadoe5AMgTzB1lQ_Fz.4pqoXFoAGaD6Na0ArBD7mNwQMKuWRgL0LiRsIYM44g0sdlS_fYjguD85AZlUWBaQrxqL9a6N8pDI8yskrLo1kpNsGkvAqz1c72Rz70iLvFAepxF1vspCZ3dl_al8m9.0oKMB62BSKH07ykeSrTWdae7VzuvfW7ogH.bZQpOZn4QNkVrCrOkYKSMVXGEeOrmrtWx0EcDH9hiv6OksLPEUJQEKbna.Fdg16f..lr.d1DGXgV7oJXveIZ2uCvoJz1k.DBsYUxRGeRNu06RF1YTnQInNO_m240SRjEIk40bAEli0FLZhUGEOnxm_p6j2xGeKSvmpT1ttVjqBHjO4dLSCjJeD65xYaXbB8bbPFGwPikSLA.1I83G4Zu0UOw6X03jTIHcipINN7Kg0a7G21P4QFvFWjSThbo_r5eu4eAYpcdNEkoXGHrNbGQ9mFP4lpEYsRYmoZVZOCKvKCkw2zbCFwd2N_VnZNvFZ1s8vtZMnmTRoj8nbxeYHyXLCmgRLcmLd8zpUlqByiydYAuA',mdrd: 'u_LuesO9Ku4pINWAi1NAo0yNZi65C_WmZpVOjSF5r8c-1760813450-1.2.1.1-ir3_t0p6FO.6S_cwRBlw_.GM45bWI4KuYvx29n9VeglH.omLYN8aoz0WbQad2RiHUF_YoJtVttpZxlXPgtAnIkYFo6F01UBPPwPU9RWfsynU0xD5T3.nW8TDSaRVuYXFlHWylWGlWs5vVLjv48Y7ICbxab7.ZhXRn12L3atmtmidxSw0HzUoY8u43o_1roO43YuuaXzwx4DA9iKRcQ.YqlArVZSdA68.zWw2ocwDDE_NRqd0lqZqELg2uNP8tkqkeqDjfP0VcE.JA4rrgix7UD.iu5qBX1.lLRPJswr96K29kIOGOqZy_2vIM8kvoTeAWZsWlCVA6t6MufxLAusvrTpp3wt27iG.FTF5vJYxxcckwwGHOgEtzd7YrcvmKpAjUByOriheQHKVodtSWdfJC1PZ2A2T0mMlx5AHrwjm0NBDxbATgINWvcDqM.L4LX9VdxL_.dQfYnA1K4xUswD5OWtVrUdM4r_xItWcm5iifUCPBKngomkzgubVr34vJf5wyzJQKTZhb_b70Ck7RZoL2itQktA37yUiGKRMK8VUgBfpxfVsR9teGCzPULrPcib_29aonXAuxSA2crClPqWOvXV.3I1UuCriAwDCLlQ1wehe9.RgfLnAxUyQLVuRuFFFxId2v_a9X.5jNj01kPTH025A3bJPTCMi3eCsAgDSe1BUX8JmROeiXfVI49Kiz54HdHccYj64C7DAx1oOnR4fDwRkwNpsflZESb5xwJgUdvOHmZYqR8EE2aM8dBQO4UB4QXRg3Lfk_Nfd5xuxR5iSmgwnetj_IC3qLHIwmfSMp3JG8e1VezVJ0vD5lloa4M05a2Ky4uSrzeozYO79J4arsa1r_1FmVPf.gBJ2aMpf5IPmk.lRnoZPDR5MOXPjuHvr1NdxNBQWpxegOiGyh9DGankCBg4dwxMgQdo_qlHVDYQBzs7uP72gTVT.bW7c9sFGo_exURNKDpPoh3FlALec6VBXAnCnmiinbJUWiFv1syC.Fs6kAiAshT24Ts1V4XCXE4LXsruyY7b1mPaHx_ZyG9Y6C.04xzQMKIcHqVMQxpnoX4bvnnwpqesLLU2PDw4_LXultpJtFPb2tnTXe1Y4P64HVCnJvRt16HjAgUIC5j7yHoBQSiJ.4p4LK9yNRcGlaYwyk1szp87NsegnY9Xm49qMlq2.Rhk8vY0EeHpdWzRFy8ocCLa9oyadpoqtrnbU3zh7B2G62cpMePKxK4riTQtb46WjLHDYzWg4mbyWOAK.vMylry4axwV.3khAsF3k6zaUPVtxaa6N9OrhtKORMWs6dTCp3ghyS1wyzJFwBLKvIPsbIwAjGjuFWftP6rgbb1SkNRNBJ6YIlRT_u2ZxNZVAnTlPl4yTcquFIxd3ILzDlYTnNGYKsrDzoP2Q6Twlu6nyaMauJwm8INCCuCdxIpU0s9Yr.gzlAbEoGgZH5kqH5w4BdcpmIxBU_mpmesdxPioX6dtKzHQj59L3.p1fV7ZNKzkRnIaa9nyYC56GVJsURllgMJKZs6Ng.ZxY.zkrRsGJjxk272pOdG6APEkT7iXauuvMd93N6rLlayBD8Km4cQLLFwZV1XFY0o_7JJgvf6X44Gn7nNd7y7wpUfGM9n7fFKtwH3GVOZp8x7EC4bVukBgfPCcny823dEN5i9B9oExCfEAfaZac95uPRP6ubZofIxeIwCg6GlTxr3EdKJSUsCZhwduEX7HHP164XhZ5yf_WdyBlrU_tu4_jWpBZ1UnbFmfynB5V9HP4dUHKL7dnQeMdwj0w9X_4VfVMY8SIC_mt49cn006McQHc2dKkWU8IWK0YyuX1DQNgTve7ywCBuLNmkfXEhyEB6v0wgveaQ3AjV1vEfL7r.kxp7x90Pn7rF0V7Xvd5ATtlDcnGOzV7LoxK7qlls6zJOGaHK396QBN9OKSQy027XA8xCuiYc8Iuh4fdfnf2HRm7cWsuN5xEXh1G.EyOR.mw8yMcIAAz5eJlmj0xcZBYP7Q2zUqTLD0TnnlgAfnVc6jnFhPiLRBQDjRaJuY85sswJY3efzM7NR4d0ezeW6guvrOfifNOeW9GRMkGRqh8MImYbXYnXrgcbMSat6oIPMsW.JA2_rvgJzZuXf9jFnMRZ.y567gXy.Hx0Pqmdq_YZqLUd62V3gh7RP4qvApBohFhWAagp.5dGzGRQxh8rQHznnlZKr0eyFLZc09DOUeh42YSv6odW5PMApzG7cljN1WQQrnXaB.oeik1YinWnMlvWA3Zj5kmJCQckXvw7mNZQMrqlqWA8bXUMDlVUuminRKkIHht8eF5',};var a = document.createElement('script');a.src = '/cdn-cgi/challenge-platform/h/g/orchestrate/chl_page/v1?ray=990a393eaa87935f';window._cf_chl_opt.cOgUHash = location.hash === '' && location.href.indexOf('#') !== -1 ? '#' : location.hash;window._cf_chl_opt.cOgUQuery = location.search === '' && location.href.slice(0, location.href.length - window._cf_chl_opt.cOgUHash.length).indexOf('?') !== -1 ? '?' : location.search;if (window.history && window.history.replaceState) {var ogU = location.pathname + window._cf_chl_opt.cOgUQuery + window._cf_chl_opt.cOgUHash;history.replaceState(null, null,\"\\/?__cf_chl_rt_tk=envJo8J97CXdLahNNXnjtg1Ldk5cJzyo87irJnK6ILY-1760813450-1.0.1.1-7rtMd5pUJ99Eah3Cmw2VKNYGljHfMrGx9lK50HXDF9A\"+ window._cf_chl_opt.cOgUHash);a.onload = function() {history.replaceState(null, null, ogU);}}document.getElementsByTagName('head')[0].appendChild(a);}());</script></div>\n",
      "    </div>\n",
      "  <script>!function(){var e=document.createElement(\"iframe\");function n(){var n=e.contentDocument||e.contentWindow.document;if(n){var t=n.createElement(\"script\");t.nonce=\"\",t.innerHTML=\"window['__CF$cv$params']={r:'792f8224776acf9f',m:'hMcSCCrnIkr7c8Pec6Na6boaaFAnQ6S0ypG2GKRbKgc-1675305063-0-AaJn0SqKZQnadmRQ5O1dM9xMkXWyP+ll7gpl2NHeoNbZTEXMjlB10KkwnEU3hf0/gMODfKqcBGLVecql6U04GGs+iJ/kNrNqj1FgfAOlQV+T2koMQMvUy1zr9tegBBX6BikfccHZhwoJhnXc0eTcg58=',s:[0x60b082f691,0xee65a67e11],u:'/cdn-cgi/challenge-platform/h/b'};var now=Date.now()/1000,offset=14400,ts=''+(Math.floor(now)-Math.floor(now%offset)),_cpo=document.createElement('script');_cpo.nonce='',_cpo.src='/cdn-cgi/challenge-platform/h/b/scripts/alpha/invisible.js?ts='+ts,document.getElementsByTagName('head')[0].appendChild(_cpo);\",n.getElementsByTagName(\"head\")[0].appendChild(t)}}if(e.height=1,e.width=1,e.style.position=\"absolute\",e.style.top=0,e.style.left=0,e.style.border=\"none\",e.style.visibility=\"hidden\",document.body.appendChild(e),\"loading\"!==document.readyState)n();else if(window.addEventListener)document.addEventListener(\"DOMContentLoaded\",n);else{var t=document.onreadystatechange||function(){};document.onreadystatechange=function(e){t(e),\"loading\"!==document.readyState&&(document.onreadystatechange=t,n())}}}();</script></body>\n",
      "</html>\n",
      "\n"
     ]
    }
   ],
   "source": [
    "import requests as re\n",
    "\n",
    "url = \"https://openai.com/\"\n",
    "\n",
    "response = re.get(url)\n",
    "\n",
    "\n",
    "print(response.status_code)\n",
    "print(response.text)"
   ]
  },
  {
   "cell_type": "markdown",
   "id": "c99be1ab-ea67-4919-b380-9fa0ad18ae0c",
   "metadata": {},
   "source": [
    "# Beautiful Soap"
   ]
  },
  {
   "cell_type": "code",
   "execution_count": 5,
   "id": "cedf9f3d-d4b8-4716-bb6b-f363a0fa9165",
   "metadata": {},
   "outputs": [
    {
     "name": "stdout",
     "output_type": "stream",
     "text": [
      "Requirement already satisfied: beautifulsoup4 in c:\\users\\yaswa\\anaconda3\\lib\\site-packages (4.12.2)\n",
      "Requirement already satisfied: lxml in c:\\users\\yaswa\\anaconda3\\lib\\site-packages (4.9.3)\n",
      "Requirement already satisfied: soupsieve>1.2 in c:\\users\\yaswa\\anaconda3\\lib\\site-packages (from beautifulsoup4) (2.5)\n",
      "Note: you may need to restart the kernel to use updated packages.\n"
     ]
    }
   ],
   "source": [
    "pip install beautifulsoup4 lxml"
   ]
  },
  {
   "cell_type": "code",
   "execution_count": 105,
   "id": "25c9fa81-6512-46a3-959c-3f17465978af",
   "metadata": {},
   "outputs": [
    {
     "name": "stdout",
     "output_type": "stream",
     "text": [
      "<html>\n",
      " <head>\n",
      "  <title>\n",
      "   503 - Service Unavailable Error\n",
      "  </title>\n",
      " </head>\n",
      " <body bgcolor=\"#FFFFFF\" text=\"#000000\">\n",
      "  <!--\n",
      "        To discuss automated access to Amazon data please contact api-services-support@amazon.com.\n",
      "        For information about migrating to our APIs refer to our Marketplace APIs at https://developer.amazonservices.in/ref=rm_5_sv, or our Product Advertising API at https://affiliate-program.amazon.in/gp/advertising/api/detail/main.html/ref=rm_5_ac for advertising use cases.\n",
      "-->\n",
      "  <center>\n",
      "   <a href=\"https://www.amazon.in/ref=cs_503_logo/\">\n",
      "    <img alt=\"Amazon.in\" border=\"0\" height=\"45\" src=\"https://images-eu.ssl-images-amazon.com/images/G/31/x-locale/communities/people/logo.gif\" width=\"200\"/>\n",
      "   </a>\n",
      "   <p align=\"center\">\n",
      "    <font face=\"Verdana,Arial,Helvetica\">\n",
      "     <font color=\"#CC6600\" size=\"+2\">\n",
      "      <b>\n",
      "       Oops!\n",
      "      </b>\n",
      "     </font>\n",
      "     <br/>\n",
      "     <b>\n",
      "      It's rush hour and traffic is piling up on that page. Please try again in a short while.\n",
      "      <br/>\n",
      "      If you were trying to place an order, it will not have been processed at this time.\n",
      "     </b>\n",
      "     <p>\n",
      "      <img alt=\"*\" border=\"0\" height=\"9\" src=\"https://images-eu.ssl-images-amazon.com/images/G/02/x-locale/common/orange-arrow.gif\" width=\"10\"/>\n",
      "      <b>\n",
      "       <a href=\"https://www.amazon.in/ref=cs_503_link/\">\n",
      "        Go to the Amazon.in home page to continue shopping\n",
      "       </a>\n",
      "      </b>\n",
      "     </p>\n",
      "    </font>\n",
      "   </p>\n",
      "  </center>\n",
      " </body>\n",
      "</html>\n",
      "\n"
     ]
    }
   ],
   "source": [
    "import requests as re\n",
    "from bs4 import BeautifulSoup\n",
    "import csv\n",
    "\n",
    "# Headers to easiy access the website without any restriction\n",
    "headers = { \n",
    "    \"User-Agent\": \"Mozilla/5.0 (Windows NT 10.0; Win64; x64)\" \n",
    "}\n",
    "\n",
    "# URL\n",
    "url = \"https://www.amazon.in/s?i=specialty-aps&srs=26129819031&hidden-keywords=cushion&_encoding=UTF8&content-id=amzn1.sym.dd77e210-2492-47c5-ab90-636d94ee94f9&pd_rd_r=64a4d15e-e7d6-4afd-9f0c-ea4d10567442&pd_rd_w=s0nw0&pd_rd_wg=1RLD8&pf_rd_p=dd77e210-2492-47c5-ab90-636d94ee94f9&pf_rd_r=PFFF7F5W0ACA8E33KBE1&ref=pd_hp_d_btf_unk\"\n",
    "\n",
    "# GET request from URL\n",
    "response = re.get(url, headers=headers)\n",
    "\n",
    "    \n",
    "soup = BeautifulSoup(response.text,'lxml')\n",
    "\n",
    "print(soup.prettify())\n",
    "    \n",
    "products = soup.find_all(\"h2\", class_=\"a-size-medium a-spacing-none a-color-base a-text-normal\")\n",
    "prices = soup.find_all(\"span\", class_=\"a-price-whole\")\n",
    "    \n",
    "with open(\"amazon_products.csv\", \"w\", newline=\"\", encoding=\"utf-8\") as file:\n",
    "    writer = csv.writer(file)\n",
    "    writer.writerow([\"product\", \"prices\"])\n",
    "        \n",
    "    for i,(prd,pri) in enumerate(zip(products,prices),1):\n",
    "        print(f\"{i} -> {prd.text[0:20]} -> {pri.text}\")\n",
    "        writer.writerow([prd.text[0:20],pri.text])\n",
    "    \n",
    "print(\"✅ Quotes saved to amazon_products.csv\")"
   ]
  },
  {
   "cell_type": "code",
   "execution_count": null,
   "id": "ca21f189-5415-4c06-bfca-31fc0cb1b318",
   "metadata": {},
   "outputs": [],
   "source": []
  }
 ],
 "metadata": {
  "kernelspec": {
   "display_name": "Python 3 (ipykernel)",
   "language": "python",
   "name": "python3"
  },
  "language_info": {
   "codemirror_mode": {
    "name": "ipython",
    "version": 3
   },
   "file_extension": ".py",
   "mimetype": "text/x-python",
   "name": "python",
   "nbconvert_exporter": "python",
   "pygments_lexer": "ipython3",
   "version": "3.11.7"
  }
 },
 "nbformat": 4,
 "nbformat_minor": 5
}
