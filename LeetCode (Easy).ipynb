{
 "cells": [
  {
   "cell_type": "code",
   "execution_count": 42,
   "id": "e1200fbb",
   "metadata": {},
   "outputs": [
    {
     "name": "stdout",
     "output_type": "stream",
     "text": [
      "[1, 2]\n"
     ]
    }
   ],
   "source": [
    "#problem-1\n",
    "\n",
    "def find(sums,target):\n",
    "    for i in range(len(sums)):\n",
    "            for k in range(len(sums)-1):\n",
    "                if(target == sums[i] + sums[k+1] ):\n",
    "                    if i!=k+1:\n",
    "                        return [i,k+1]\n",
    "            \n",
    "sums = [2,5,5,11]\n",
    "target =  10\n",
    "print(find(sums,target))"
   ]
  },
  {
   "cell_type": "code",
   "execution_count": null,
   "id": "c64576a2",
   "metadata": {},
   "outputs": [],
   "source": []
  },
  {
   "cell_type": "code",
   "execution_count": 43,
   "id": "e8230432",
   "metadata": {},
   "outputs": [],
   "source": [
    "#problem-2:\n",
    "\n",
    "y = str(x)\n",
    "if(y == y[::-1] ):\n",
    "    return True\n",
    "else:\n",
    "    return False"
   ]
  },
  {
   "cell_type": "code",
   "execution_count": null,
   "id": "2ae7d52e",
   "metadata": {},
   "outputs": [],
   "source": [
    "#problem -3:\n",
    "\n",
    "s = input()\n",
    "num = 0\n",
    "roman = {'I':1,'V':5,'X':10,'L':50,'C':100,'D':500,'M':1000,'IV':4,'IX':9,'XL':40,'XC':90,'CD':400,'CM':900}\n",
    "for i in range(len(s)):\n",
    "    if(i+1<len(s) and s[i:i+2] in roman ):\n",
    "        num+=roman[s[i:i+2]]\n",
    "        print(num)\n",
    "    else:\n",
    "        num+=roman[s[i]]\n",
    "print(num)"
   ]
  },
  {
   "cell_type": "code",
   "execution_count": 8,
   "id": "def2dbfc",
   "metadata": {},
   "outputs": [
    {
     "name": "stdout",
     "output_type": "stream",
     "text": [
      "ada\n"
     ]
    }
   ],
   "source": [
    "#problem-4:\n",
    "\n",
    "def fps(words):\n",
    "    for i in range(0,len(words)):\n",
    "        if(words[i] == words[i][::-1]):\n",
    "            return words[i]\n",
    "    return\"\"\n",
    "\n",
    "res = fps([\"abc\",\"car\",\"ada\",\"racecar\",\"cool\"])\n",
    "print(res)\n",
    "\n",
    "for word in words:\n",
    "    if(word == word[::-1]):\n",
    "        return word"
   ]
  },
  {
   "cell_type": "code",
   "execution_count": null,
   "id": "bb1efa6c",
   "metadata": {},
   "outputs": [],
   "source": [
    "print(\"hello this is sana. \")\n",
    "print(\"hello\")"
   ]
  },
  {
   "cell_type": "code",
   "execution_count": 23,
   "id": "ba02c396",
   "metadata": {},
   "outputs": [
    {
     "name": "stdout",
     "output_type": "stream",
     "text": [
      "20\n",
      "56\n"
     ]
    },
    {
     "data": {
      "text/plain": [
       "0"
      ]
     },
     "execution_count": 23,
     "metadata": {},
     "output_type": "execute_result"
    }
   ],
   "source": [
    "def countold(lis):\n",
    "    s = 0\n",
    "    for i in range(len(lis)):\n",
    "        if int(lis[i][11:13]) > 60:\n",
    "            s =  s + 1\n",
    "    return s\n",
    "countold([\"1313579440F2036\",\"2921522980M5644\"])"
   ]
  },
  {
   "cell_type": "code",
   "execution_count": 3,
   "id": "c9a44848",
   "metadata": {},
   "outputs": [
    {
     "data": {
      "text/plain": [
       "False"
      ]
     },
     "execution_count": 3,
     "metadata": {},
     "output_type": "execute_result"
    }
   ],
   "source": [
    "def canBeEqual(target, arr):\n",
    "        if(sorted(target) == sorted(arr)):\n",
    "            return True\n",
    "        else:\n",
    "            return False\n",
    "canBeEqual([3,7,9],[3,7,11])"
   ]
  },
  {
   "cell_type": "code",
   "execution_count": null,
   "id": "bb23e700-a984-4a85-a930-76e7a65dfe11",
   "metadata": {},
   "outputs": [],
   "source": []
  }
 ],
 "metadata": {
  "kernelspec": {
   "display_name": "Python 3 (ipykernel)",
   "language": "python",
   "name": "python3"
  },
  "language_info": {
   "codemirror_mode": {
    "name": "ipython",
    "version": 3
   },
   "file_extension": ".py",
   "mimetype": "text/x-python",
   "name": "python",
   "nbconvert_exporter": "python",
   "pygments_lexer": "ipython3",
   "version": "3.11.7"
  }
 },
 "nbformat": 4,
 "nbformat_minor": 5
}
