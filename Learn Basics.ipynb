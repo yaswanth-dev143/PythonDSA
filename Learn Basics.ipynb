{
 "cells": [
  {
   "cell_type": "markdown",
   "id": "79c3b7bc",
   "metadata": {},
   "source": [
    "# Basic syntax for input , output and import"
   ]
  },
  {
   "cell_type": "code",
   "execution_count": 2,
   "id": "9584c754",
   "metadata": {},
   "outputs": [
    {
     "name": "stdout",
     "output_type": "stream",
     "text": [
      "Enter your number: 4\n",
      "4\n",
      "<class 'str'>\n"
     ]
    }
   ],
   "source": [
    "x = input(\"Enter your number: \")\n",
    "print(x)\n",
    "print(type(x))"
   ]
  },
  {
   "cell_type": "raw",
   "id": "257c6098",
   "metadata": {},
   "source": [
    "# How to take List elements as input: "
   ]
  },
  {
   "cell_type": "code",
   "execution_count": 5,
   "id": "2e0e9b37",
   "metadata": {},
   "outputs": [
    {
     "name": "stdout",
     "output_type": "stream",
     "text": [
      "Enter the no.of elements in list: 5\n",
      "Enter the list elements: \n",
      "1\n",
      "2\n",
      "3\n",
      "4\n",
      "5\n",
      "[1, 2, 3, 4, 5]\n"
     ]
    }
   ],
   "source": [
    "# Taking elements one by one :\n",
    "\n",
    "n = int(input(\"Enter the no.of elements in list: \"))\n",
    "list = []\n",
    "print(\"Enter the list elements: \")\n",
    "for i in range(0,n):\n",
    "    list.append(int(input()))\n",
    "print(list)"
   ]
  },
  {
   "cell_type": "raw",
   "id": "defb9d33",
   "metadata": {},
   "source": [
    "Python Output:"
   ]
  },
  {
   "cell_type": "code",
   "execution_count": 14,
   "id": "3095b581",
   "metadata": {},
   "outputs": [
    {
     "name": "stdout",
     "output_type": "stream",
     "text": [
      "india%usa%canda\n"
     ]
    }
   ],
   "source": [
    "# sep\n",
    "print(\"india\",\"usa\",\"canda\", sep=\"%\")"
   ]
  },
  {
   "cell_type": "code",
   "execution_count": 18,
   "id": "af2a0308",
   "metadata": {},
   "outputs": [
    {
     "name": "stdout",
     "output_type": "stream",
     "text": [
      "this yaswanth from the rgukt ongole/"
     ]
    }
   ],
   "source": [
    "# end\n",
    "print(\"this yaswanth from the rgukt ongole\", end=\"/\")"
   ]
  },
  {
   "cell_type": "raw",
   "id": "2f304ee0",
   "metadata": {},
   "source": [
    "import"
   ]
  },
  {
   "cell_type": "code",
   "execution_count": 20,
   "id": "ca0a7632",
   "metadata": {},
   "outputs": [
    {
     "name": "stdout",
     "output_type": "stream",
     "text": [
      "factorial of 5 is: 120\n"
     ]
    }
   ],
   "source": [
    "import math\n",
    "print(\"factorial of 5 is:\",end=\" \")\n",
    "print(math.factorial(5))"
   ]
  },
  {
   "cell_type": "code",
   "execution_count": 22,
   "id": "c97419c8",
   "metadata": {},
   "outputs": [
    {
     "name": "stdout",
     "output_type": "stream",
     "text": [
      "factorial of 6 is: 720\n"
     ]
    }
   ],
   "source": [
    "from math import factorial, gcd\n",
    "print(\"factorial of 6 is:\",end=\" \")\n",
    "print(factorial(6))"
   ]
  },
  {
   "cell_type": "code",
   "execution_count": 23,
   "id": "0f4d7638",
   "metadata": {},
   "outputs": [
    {
     "name": "stdout",
     "output_type": "stream",
     "text": [
      "factorial of 5 is: 3628800\n"
     ]
    }
   ],
   "source": [
    "import math as m\n",
    "print(\"factorial of 5 is:\",end=\" \")\n",
    "print(m.factorial(10))"
   ]
  },
  {
   "cell_type": "code",
   "execution_count": null,
   "id": "65fa87bb",
   "metadata": {},
   "outputs": [],
   "source": [
    "# user input problem:\n",
    "#Write a program that takes a character as input and prints 1, 0, or -1 according to the following rules.\n",
    "#1, if the character is an uppercase alphabet (A - Z).\n",
    "#0, if the character is a lowercase alphabet (a - z).\n",
    "#-1, if the character is not an alphabet.\n",
    "\n",
    "x = input()\n",
    "\n",
    "if x.isupper():\n",
    "    print(\"1\")\n",
    "elif x.islower():\n",
    "    print(\"0\")\n",
    "else:\n",
    "    print(\"-1\")"
   ]
  },
  {
   "cell_type": "markdown",
   "id": "8de0b8f8",
   "metadata": {},
   "source": [
    "# Data types"
   ]
  },
  {
   "cell_type": "code",
   "execution_count": null,
   "id": "76b0fe60",
   "metadata": {},
   "outputs": [],
   "source": [
    "# Integer: 4 bytes\n",
    "# Long: 8 bytes\n",
    "# Float: 4 bytes\n",
    "# Double: 8 bytes\n",
    "# Character: 1 byte"
   ]
  },
  {
   "cell_type": "markdown",
   "id": "4615a7aa",
   "metadata": {},
   "source": [
    "# If Else statements"
   ]
  },
  {
   "cell_type": "code",
   "execution_count": null,
   "id": "30fefa08",
   "metadata": {},
   "outputs": [],
   "source": [
    "def dataTypes(type: str):\n",
    "    if(str == \"Long\"):\n",
    "        return 8\n",
    "    elif(str == \"Integer\"):\n",
    "        return 4\n",
    "    elif(str == \"Float\"):\n",
    "        return 4\n",
    "    elif(str == \"Double\"):\n",
    "        return 8\n",
    "    else:\n",
    "        return 1\n",
    "\n",
    "x = input()\n",
    "dataTypes(x)"
   ]
  },
  {
   "cell_type": "code",
   "execution_count": 1,
   "id": "56e1b0bd",
   "metadata": {},
   "outputs": [
    {
     "name": "stdout",
     "output_type": "stream",
     "text": [
      "greater\n"
     ]
    }
   ],
   "source": [
    "def compareIfElse(a: int, b: int):\n",
    "    # Write your code here\n",
    "    if a < b:\n",
    "        print(\"smaller\")\n",
    "    elif a > b:\n",
    "        print(\"greater\")\n",
    "    else:\n",
    "        print(\"equal\")\n",
    "        \n",
    "compareIfElse(5,3)\n"
   ]
  },
  {
   "cell_type": "code",
   "execution_count": 2,
   "id": "65220929",
   "metadata": {},
   "outputs": [
    {
     "name": "stdout",
     "output_type": "stream",
     "text": [
      "yuk\n"
     ]
    }
   ],
   "source": [
    "if(\"Long\" == \"Long\"):\n",
    "    print(\"yuk\")"
   ]
  },
  {
   "cell_type": "code",
   "execution_count": 16,
   "id": "789c7943",
   "metadata": {},
   "outputs": [
    {
     "name": "stdout",
     "output_type": "stream",
     "text": [
      "long\n"
     ]
    },
    {
     "data": {
      "text/plain": [
       "1"
      ]
     },
     "execution_count": 16,
     "metadata": {},
     "output_type": "execute_result"
    }
   ],
   "source": [
    "def dataTypes(type: str):\n",
    "    if(type == \"Long\"):\n",
    "        return 8\n",
    "    elif(type == \"Integer\"):\n",
    "        return 4\n",
    "    elif(type == \"Float\"):\n",
    "        return 4\n",
    "    elif(type == \"Double\"):\n",
    "        return 8\n",
    "    else:\n",
    "        return 1\n",
    "\n",
    "x = input()\n",
    "dataTypes(x)"
   ]
  },
  {
   "cell_type": "code",
   "execution_count": 21,
   "id": "5a38c625",
   "metadata": {},
   "outputs": [
    {
     "name": "stdout",
     "output_type": "stream",
     "text": [
      "0\n",
      "[]\n"
     ]
    }
   ],
   "source": [
    "def dibi(n):\n",
    "    if n <= 0:\n",
    "        return []\n",
    "    elif n == 1:\n",
    "        return [1]\n",
    "    elif n == 2:\n",
    "        return [1,1]\n",
    "    else:\n",
    "        list = [0,1]\n",
    "        for i in range(2,n+1):\n",
    "            list.append(list[i-1] + list[i-2])\n",
    "        return list[n]\n",
    "x = int(input())\n",
    "print(dibi(x))"
   ]
  },
  {
   "cell_type": "code",
   "execution_count": 13,
   "id": "ec7e346d",
   "metadata": {},
   "outputs": [
    {
     "name": "stdout",
     "output_type": "stream",
     "text": [
      "120\n"
     ]
    }
   ],
   "source": [
    "n = 5\n",
    "fact = 1\n",
    "while(1 < n):\n",
    "    fact *= n\n",
    "    n = n - 1\n",
    "print(fact)\n",
    "    "
   ]
  },
  {
   "cell_type": "code",
   "execution_count": 28,
   "id": "eb06360a",
   "metadata": {},
   "outputs": [
    {
     "name": "stdout",
     "output_type": "stream",
     "text": [
      "1234567890987654321\n",
      "40\n",
      "50\n"
     ]
    }
   ],
   "source": [
    "## Note : For printing multiple values in one line, put them inside print separated by space.\n",
    "## You can follow this syntax for printing values of two variables val1 and val2 separaetd by space -\n",
    "## print(val1, \" \", val2)\n",
    "\n",
    "def odev(b):\n",
    "    n = len(b)\n",
    "    i = 0\n",
    "    elist = []\n",
    "    olist = []\n",
    "    while(i < n):\n",
    "        if(int(b[i]) % 2 == 0):\n",
    "            elist.append(b[i])\n",
    "        else:\n",
    "            olist.append(b[i])\n",
    "        i = i + 1\n",
    "\n",
    "    e = [ int(j) for j in elist ]\n",
    "    print(sum(e))\n",
    "\n",
    "    o =  [int(k) for k in olist ]\n",
    "    print(sum(o))\n",
    "        \n",
    "x = input()\n",
    "odev(x)"
   ]
  },
  {
   "cell_type": "markdown",
   "id": "59d69f36",
   "metadata": {},
   "source": [
    "# patterns"
   ]
  },
  {
   "cell_type": "code",
   "execution_count": 9,
   "id": "559bbb5c",
   "metadata": {},
   "outputs": [
    {
     "name": "stdout",
     "output_type": "stream",
     "text": [
      "3\n",
      "* * * \n",
      "* * * \n",
      "* * * \n"
     ]
    }
   ],
   "source": [
    "def pattern1(n):\n",
    "    for i in range(0,n):\n",
    "        for j in range(0,n):\n",
    "            print(\"*\", end =\" \")\n",
    "        print()\n",
    "x = int(input())\n",
    "pattern1(x)"
   ]
  },
  {
   "cell_type": "code",
   "execution_count": 8,
   "id": "9515265a",
   "metadata": {},
   "outputs": [
    {
     "name": "stdout",
     "output_type": "stream",
     "text": [
      "3\n",
      "*\n",
      "**\n",
      "***\n"
     ]
    }
   ],
   "source": [
    "def pattern2(n):\n",
    "    for i in range(n):\n",
    "        for j in range(i + 1):\n",
    "            print(\"*\" , end =\"\")\n",
    "        print()\n",
    "x = int(input())      \n",
    "pattern2(x)"
   ]
  },
  {
   "cell_type": "code",
   "execution_count": 6,
   "id": "e51d150e",
   "metadata": {},
   "outputs": [
    {
     "name": "stdout",
     "output_type": "stream",
     "text": [
      "3\n",
      "1\n",
      "12\n",
      "123\n"
     ]
    }
   ],
   "source": [
    "def pattern3(n):\n",
    "    for i in range(n):\n",
    "        for j in range(1, i + 2):\n",
    "            print(j , end =\"\")\n",
    "        print()\n",
    "x = int(input())      \n",
    "pattern3(x)"
   ]
  },
  {
   "cell_type": "code",
   "execution_count": 62,
   "id": "bbd27b3d",
   "metadata": {},
   "outputs": [
    {
     "name": "stdout",
     "output_type": "stream",
     "text": [
      "5\n",
      "\n",
      "1\n",
      "22\n",
      "333\n",
      "4444\n",
      "55555\n"
     ]
    }
   ],
   "source": [
    "def pattern4(n):\n",
    "    for i in range(n+1):\n",
    "        for j in range(1, i + 1):\n",
    "            print(i , end =\"\")\n",
    "        print()\n",
    "x = int(input())      \n",
    "pattern4(x)"
   ]
  },
  {
   "cell_type": "code",
   "execution_count": 1,
   "id": "578960f6",
   "metadata": {},
   "outputs": [
    {
     "name": "stdout",
     "output_type": "stream",
     "text": [
      "5\n",
      "*****\n",
      "****\n",
      "***\n",
      "**\n",
      "*\n"
     ]
    }
   ],
   "source": [
    "def pattern5(n):\n",
    "    for i in range(0,n):\n",
    "        for j in range(i,n):\n",
    "            print( \"*\", end =\"\")\n",
    "        print()\n",
    "x = int(input())      \n",
    "pattern5(x)"
   ]
  },
  {
   "cell_type": "code",
   "execution_count": 9,
   "id": "e31d1553",
   "metadata": {},
   "outputs": [
    {
     "name": "stdin",
     "output_type": "stream",
     "text": [
      " 5\n"
     ]
    },
    {
     "name": "stdout",
     "output_type": "stream",
     "text": [
      "123456\n",
      "23456\n",
      "3456\n",
      "456\n",
      "56\n"
     ]
    }
   ],
   "source": [
    "def pattern6(n):\n",
    "    for i in range(1,n+1):\n",
    "        for j in range(i,n+2):\n",
    "            print( j, end =\"\")\n",
    "        print()\n",
    "x = int(input())      \n",
    "pattern6(x)"
   ]
  },
  {
   "cell_type": "code",
   "execution_count": 18,
   "id": "612f9740",
   "metadata": {},
   "outputs": [
    {
     "name": "stdout",
     "output_type": "stream",
     "text": [
      "htnawsay\n"
     ]
    }
   ],
   "source": [
    "name  = \"yaswanth\"\n",
    "res = \"\"\n",
    "for i in range(len(name)):\n",
    "    res = name[i] + res\n",
    "print(res)"
   ]
  },
  {
   "cell_type": "code",
   "execution_count": null,
   "id": "579392a5-8dde-4a40-a5d2-a3b2e603db17",
   "metadata": {},
   "outputs": [],
   "source": []
  }
 ],
 "metadata": {
  "kernelspec": {
   "display_name": "Python 3 (ipykernel)",
   "language": "python",
   "name": "python3"
  },
  "language_info": {
   "codemirror_mode": {
    "name": "ipython",
    "version": 3
   },
   "file_extension": ".py",
   "mimetype": "text/x-python",
   "name": "python",
   "nbconvert_exporter": "python",
   "pygments_lexer": "ipython3",
   "version": "3.11.7"
  }
 },
 "nbformat": 4,
 "nbformat_minor": 5
}
